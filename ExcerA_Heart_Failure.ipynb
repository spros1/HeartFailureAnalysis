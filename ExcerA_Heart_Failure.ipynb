{
  "nbformat": 4,
  "nbformat_minor": 0,
  "metadata": {
    "colab": {
      "name": "ExcerA_Heart_Failure.ipynb",
      "provenance": [],
      "collapsed_sections": [],
      "authorship_tag": "ABX9TyMvZv5zyutJwlE70CyK3AjX",
      "include_colab_link": true
    },
    "kernelspec": {
      "name": "python3",
      "display_name": "Python 3"
    },
    "language_info": {
      "name": "python"
    }
  },
  "cells": [
    {
      "cell_type": "markdown",
      "metadata": {
        "id": "view-in-github",
        "colab_type": "text"
      },
      "source": [
        "<a href=\"https://colab.research.google.com/github/spros1/HeartFailureAnalysis/blob/main/ExcerA_Heart_Failure.ipynb\" target=\"_parent\"><img src=\"https://colab.research.google.com/assets/colab-badge.svg\" alt=\"Open In Colab\"/></a>"
      ]
    },
    {
      "cell_type": "markdown",
      "source": [
        "##*## Subject 1 ## Import data from kaggle and load them to a dataframe*"
      ],
      "metadata": {
        "id": "nyutKiX8l1iT"
      }
    },
    {
      "cell_type": "code",
      "execution_count": 1,
      "metadata": {
        "id": "JG3h1fSwbPkJ"
      },
      "outputs": [],
      "source": [
        "pip install -q kaggle"
      ]
    },
    {
      "cell_type": "code",
      "source": [
        "from google.colab import files\n",
        "files.upload()"
      ],
      "metadata": {
        "id": "oDZl-noGE4na",
        "outputId": "17752607-bf37-48e1-fc65-18c1da8a8aef",
        "colab": {
          "resources": {
            "http://localhost:8080/nbextensions/google.colab/files.js": {
              "data": "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",
              "ok": true,
              "headers": [
                [
                  "content-type",
                  "application/javascript"
                ]
              ],
              "status": 200,
              "status_text": ""
            }
          },
          "base_uri": "https://localhost:8080/",
          "height": 90
        }
      },
      "execution_count": 2,
      "outputs": [
        {
          "output_type": "display_data",
          "data": {
            "text/html": [
              "\n",
              "     <input type=\"file\" id=\"files-86470caa-0db7-43e5-b457-26a179abd8d6\" name=\"files[]\" multiple disabled\n",
              "        style=\"border:none\" />\n",
              "     <output id=\"result-86470caa-0db7-43e5-b457-26a179abd8d6\">\n",
              "      Upload widget is only available when the cell has been executed in the\n",
              "      current browser session. Please rerun this cell to enable.\n",
              "      </output>\n",
              "      <script src=\"/nbextensions/google.colab/files.js\"></script> "
            ],
            "text/plain": [
              "<IPython.core.display.HTML object>"
            ]
          },
          "metadata": {}
        },
        {
          "output_type": "stream",
          "name": "stdout",
          "text": [
            "Saving kaggle.json to kaggle.json\n"
          ]
        },
        {
          "output_type": "execute_result",
          "data": {
            "text/plain": [
              "{'kaggle.json': b'{\"username\":\"sprospap\",\"key\":\"9a4854805a9655a32d9fa00b6ca4aa15\"}'}"
            ]
          },
          "metadata": {},
          "execution_count": 2
        }
      ]
    },
    {
      "cell_type": "code",
      "source": [
        "! mkdir ~/.kaggle\n",
        "! cp kaggle.json ~/.kaggle/"
      ],
      "metadata": {
        "id": "cDeCnQnofj11"
      },
      "execution_count": 3,
      "outputs": []
    },
    {
      "cell_type": "code",
      "source": [
        "! chmod 600 ~/.kaggle/kaggle.json"
      ],
      "metadata": {
        "id": "qbiTe7M5frnX"
      },
      "execution_count": 4,
      "outputs": []
    },
    {
      "cell_type": "code",
      "source": [
        "!kaggle datasets download -d andrewmvd/heart-failure-clinical-data"
      ],
      "metadata": {
        "id": "1RRnpk5UgJfR",
        "colab": {
          "base_uri": "https://localhost:8080/"
        },
        "outputId": "38a0dcca-3248-4602-dea7-49b8031b23a7"
      },
      "execution_count": 5,
      "outputs": [
        {
          "output_type": "stream",
          "name": "stdout",
          "text": [
            "Downloading heart-failure-clinical-data.zip to /content\n",
            "\r  0% 0.00/3.97k [00:00<?, ?B/s]\n",
            "\r100% 3.97k/3.97k [00:00<00:00, 7.30MB/s]\n"
          ]
        }
      ]
    },
    {
      "cell_type": "code",
      "source": [
        "ls"
      ],
      "metadata": {
        "id": "kFuuAhPfgULf",
        "colab": {
          "base_uri": "https://localhost:8080/"
        },
        "outputId": "89c0135f-94c0-49db-bf91-2610bf57abe6"
      },
      "execution_count": null,
      "outputs": [
        {
          "output_type": "stream",
          "name": "stdout",
          "text": [
            "heart-failure-clinical-data.zip  kaggle.json  \u001b[0m\u001b[01;34msample_data\u001b[0m/\n"
          ]
        }
      ]
    },
    {
      "cell_type": "code",
      "source": [
        "! unzip heart-failure-clinical-data.zip"
      ],
      "metadata": {
        "id": "Q_JgtSmPgrMK",
        "colab": {
          "base_uri": "https://localhost:8080/"
        },
        "outputId": "db1ae361-baed-4751-cfa6-66ef91c21caa"
      },
      "execution_count": 6,
      "outputs": [
        {
          "output_type": "stream",
          "name": "stdout",
          "text": [
            "Archive:  heart-failure-clinical-data.zip\n",
            "  inflating: heart_failure_clinical_records_dataset.csv  \n"
          ]
        }
      ]
    },
    {
      "cell_type": "code",
      "source": [
        "# Check dataset \n",
        "import pandas as pd\n",
        "from google.colab import files\n",
        "with open('heart_failure_clinical_records_dataset.csv', 'r') as data:\n",
        "    df3 = pd.read_csv(data, encoding = ('ansi'))\n",
        "    print (df3)"
      ],
      "metadata": {
        "id": "NoP_gCV4mSI6",
        "colab": {
          "base_uri": "https://localhost:8080/"
        },
        "outputId": "83974545-ded5-40ef-8090-ca2403ab654f"
      },
      "execution_count": 7,
      "outputs": [
        {
          "output_type": "stream",
          "name": "stdout",
          "text": [
            "      age  anaemia  creatinine_phosphokinase  ...  smoking  time  DEATH_EVENT\n",
            "0    75.0        0                       582  ...        0     4            1\n",
            "1    55.0        0                      7861  ...        0     6            1\n",
            "2    65.0        0                       146  ...        1     7            1\n",
            "3    50.0        1                       111  ...        0     7            1\n",
            "4    65.0        1                       160  ...        0     8            1\n",
            "..    ...      ...                       ...  ...      ...   ...          ...\n",
            "294  62.0        0                        61  ...        1   270            0\n",
            "295  55.0        0                      1820  ...        0   271            0\n",
            "296  45.0        0                      2060  ...        0   278            0\n",
            "297  45.0        0                      2413  ...        1   280            0\n",
            "298  50.0        0                       196  ...        1   285            0\n",
            "\n",
            "[299 rows x 13 columns]\n"
          ]
        }
      ]
    },
    {
      "cell_type": "markdown",
      "source": [
        "### Create an instance of Database and load to table the CSV"
      ],
      "metadata": {
        "id": "AsBx7jhIonqn"
      }
    },
    {
      "cell_type": "code",
      "source": [
        "# create the SQLite Database\n",
        "%pip install csv-to-sqlite"
      ],
      "metadata": {
        "id": "ZaMw21JanLdt",
        "colab": {
          "base_uri": "https://localhost:8080/"
        },
        "outputId": "f7687efe-5300-45e9-e678-739ae03320f3"
      },
      "execution_count": 8,
      "outputs": [
        {
          "output_type": "stream",
          "name": "stdout",
          "text": [
            "Collecting csv-to-sqlite\n",
            "  Downloading csv_to_sqlite-2.1.1-py3-none-any.whl (12 kB)\n",
            "Requirement already satisfied: click in /usr/local/lib/python3.7/dist-packages (from csv-to-sqlite) (7.1.2)\n",
            "Installing collected packages: csv-to-sqlite\n",
            "Successfully installed csv-to-sqlite-2.1.1\n"
          ]
        }
      ]
    },
    {
      "cell_type": "code",
      "source": [
        "# import to table \n",
        "!csv-to-sqlite -f heart_failure_clinical_records_dataset.csv -t full -o db.sqlite"
      ],
      "metadata": {
        "id": "VBKPg3lgvdZO",
        "colab": {
          "base_uri": "https://localhost:8080/"
        },
        "outputId": "678f2538-0904-4eab-e4b4-f7bf47521631"
      },
      "execution_count": 9,
      "outputs": [
        {
          "output_type": "stream",
          "name": "stdout",
          "text": [
            "Written 299 rows into 1 tables in 0.018 seconds\n"
          ]
        }
      ]
    },
    {
      "cell_type": "markdown",
      "source": [
        "### Accessing Database - Copy data to dataframe\n"
      ],
      "metadata": {
        "id": "6YjN9BAK0Eov"
      }
    },
    {
      "cell_type": "code",
      "source": [
        "#Accessing the SQL Database\n",
        "import sqlite3"
      ],
      "metadata": {
        "id": "1wnSIj51wzGX"
      },
      "execution_count": 10,
      "outputs": []
    },
    {
      "cell_type": "code",
      "source": [
        "def create_connection(db_file):\n",
        "    \"\"\" create a database connection to the SQLite database\n",
        "        specified by the db_file\n",
        "    :param db_file: database file\n",
        "    :return: Connection object or None\n",
        "    \"\"\"\n",
        "    conn = None\n",
        "    try:\n",
        "        conn = sqlite3.connect(db_file)\n",
        "    except Error as e:\n",
        "        print(e)\n",
        "\n",
        "    return conn"
      ],
      "metadata": {
        "id": "Hb0_rax2w0oj"
      },
      "execution_count": 11,
      "outputs": []
    },
    {
      "cell_type": "code",
      "source": [
        "conn = create_connection(\"db.sqlite\")"
      ],
      "metadata": {
        "id": "dKKHbSEg0fov"
      },
      "execution_count": 12,
      "outputs": []
    },
    {
      "cell_type": "code",
      "source": [
        "import pandas as pd \n",
        "\n",
        "cur = conn.cursor()\n",
        "cur.execute(f\"SELECT * FROM heart_failure_clinical_records_dataset \" )\n",
        "df = pd.DataFrame(cur.fetchall(), columns= [ 'Age', 'Anaemia', 'Creatinine_Phosphokinase', 'Diabetes', 'Ejection_Fraction', 'High_Blood_Pressure', 'Platelets', 'Serum_creatinine', 'Serum_Sodium', 'Sex', 'Smoking', 'Time', 'Death_Event'] )\n",
        "\n",
        "print(df)"
      ],
      "metadata": {
        "id": "78dcbPRIRmWK",
        "colab": {
          "base_uri": "https://localhost:8080/"
        },
        "outputId": "172ccbfa-86bd-44ea-ba68-87c6fdc78f0a"
      },
      "execution_count": 13,
      "outputs": [
        {
          "output_type": "stream",
          "name": "stdout",
          "text": [
            "      Age  Anaemia  Creatinine_Phosphokinase  ...  Smoking  Time  Death_Event\n",
            "0    75.0        0                       582  ...        0     4            1\n",
            "1    55.0        0                      7861  ...        0     6            1\n",
            "2    65.0        0                       146  ...        1     7            1\n",
            "3    50.0        1                       111  ...        0     7            1\n",
            "4    65.0        1                       160  ...        0     8            1\n",
            "..    ...      ...                       ...  ...      ...   ...          ...\n",
            "294  62.0        0                        61  ...        1   270            0\n",
            "295  55.0        0                      1820  ...        0   271            0\n",
            "296  45.0        0                      2060  ...        0   278            0\n",
            "297  45.0        0                      2413  ...        1   280            0\n",
            "298  50.0        0                       196  ...        1   285            0\n",
            "\n",
            "[299 rows x 13 columns]\n"
          ]
        }
      ]
    },
    {
      "cell_type": "markdown",
      "source": [
        "##*## Subject 2 ## Check and clean the data*\n",
        "\n",
        "We now have the data based in SQLite, and the dataframe df is ready to used for calculation in python"
      ],
      "metadata": {
        "id": "TBB_1jdalC3p"
      }
    },
    {
      "cell_type": "code",
      "source": [
        "df.head()"
      ],
      "metadata": {
        "colab": {
          "base_uri": "https://localhost:8080/",
          "height": 206
        },
        "id": "g8-c9TUFU3Se",
        "outputId": "5b866091-dbec-4397-d704-92625242d7a1"
      },
      "execution_count": 14,
      "outputs": [
        {
          "output_type": "execute_result",
          "data": {
            "text/html": [
              "\n",
              "  <div id=\"df-1cda72c3-73a0-42b1-b67d-ec05abebe3af\">\n",
              "    <div class=\"colab-df-container\">\n",
              "      <div>\n",
              "<style scoped>\n",
              "    .dataframe tbody tr th:only-of-type {\n",
              "        vertical-align: middle;\n",
              "    }\n",
              "\n",
              "    .dataframe tbody tr th {\n",
              "        vertical-align: top;\n",
              "    }\n",
              "\n",
              "    .dataframe thead th {\n",
              "        text-align: right;\n",
              "    }\n",
              "</style>\n",
              "<table border=\"1\" class=\"dataframe\">\n",
              "  <thead>\n",
              "    <tr style=\"text-align: right;\">\n",
              "      <th></th>\n",
              "      <th>Age</th>\n",
              "      <th>Anaemia</th>\n",
              "      <th>Creatinine_Phosphokinase</th>\n",
              "      <th>Diabetes</th>\n",
              "      <th>Ejection_Fraction</th>\n",
              "      <th>High_Blood_Pressure</th>\n",
              "      <th>Platelets</th>\n",
              "      <th>Serum_creatinine</th>\n",
              "      <th>Serum_Sodium</th>\n",
              "      <th>Sex</th>\n",
              "      <th>Smoking</th>\n",
              "      <th>Time</th>\n",
              "      <th>Death_Event</th>\n",
              "    </tr>\n",
              "  </thead>\n",
              "  <tbody>\n",
              "    <tr>\n",
              "      <th>0</th>\n",
              "      <td>75.0</td>\n",
              "      <td>0</td>\n",
              "      <td>582</td>\n",
              "      <td>0</td>\n",
              "      <td>20</td>\n",
              "      <td>1</td>\n",
              "      <td>265000.00</td>\n",
              "      <td>1.9</td>\n",
              "      <td>130</td>\n",
              "      <td>1</td>\n",
              "      <td>0</td>\n",
              "      <td>4</td>\n",
              "      <td>1</td>\n",
              "    </tr>\n",
              "    <tr>\n",
              "      <th>1</th>\n",
              "      <td>55.0</td>\n",
              "      <td>0</td>\n",
              "      <td>7861</td>\n",
              "      <td>0</td>\n",
              "      <td>38</td>\n",
              "      <td>0</td>\n",
              "      <td>263358.03</td>\n",
              "      <td>1.1</td>\n",
              "      <td>136</td>\n",
              "      <td>1</td>\n",
              "      <td>0</td>\n",
              "      <td>6</td>\n",
              "      <td>1</td>\n",
              "    </tr>\n",
              "    <tr>\n",
              "      <th>2</th>\n",
              "      <td>65.0</td>\n",
              "      <td>0</td>\n",
              "      <td>146</td>\n",
              "      <td>0</td>\n",
              "      <td>20</td>\n",
              "      <td>0</td>\n",
              "      <td>162000.00</td>\n",
              "      <td>1.3</td>\n",
              "      <td>129</td>\n",
              "      <td>1</td>\n",
              "      <td>1</td>\n",
              "      <td>7</td>\n",
              "      <td>1</td>\n",
              "    </tr>\n",
              "    <tr>\n",
              "      <th>3</th>\n",
              "      <td>50.0</td>\n",
              "      <td>1</td>\n",
              "      <td>111</td>\n",
              "      <td>0</td>\n",
              "      <td>20</td>\n",
              "      <td>0</td>\n",
              "      <td>210000.00</td>\n",
              "      <td>1.9</td>\n",
              "      <td>137</td>\n",
              "      <td>1</td>\n",
              "      <td>0</td>\n",
              "      <td>7</td>\n",
              "      <td>1</td>\n",
              "    </tr>\n",
              "    <tr>\n",
              "      <th>4</th>\n",
              "      <td>65.0</td>\n",
              "      <td>1</td>\n",
              "      <td>160</td>\n",
              "      <td>1</td>\n",
              "      <td>20</td>\n",
              "      <td>0</td>\n",
              "      <td>327000.00</td>\n",
              "      <td>2.7</td>\n",
              "      <td>116</td>\n",
              "      <td>0</td>\n",
              "      <td>0</td>\n",
              "      <td>8</td>\n",
              "      <td>1</td>\n",
              "    </tr>\n",
              "  </tbody>\n",
              "</table>\n",
              "</div>\n",
              "      <button class=\"colab-df-convert\" onclick=\"convertToInteractive('df-1cda72c3-73a0-42b1-b67d-ec05abebe3af')\"\n",
              "              title=\"Convert this dataframe to an interactive table.\"\n",
              "              style=\"display:none;\">\n",
              "        \n",
              "  <svg xmlns=\"http://www.w3.org/2000/svg\" height=\"24px\"viewBox=\"0 0 24 24\"\n",
              "       width=\"24px\">\n",
              "    <path d=\"M0 0h24v24H0V0z\" fill=\"none\"/>\n",
              "    <path d=\"M18.56 5.44l.94 2.06.94-2.06 2.06-.94-2.06-.94-.94-2.06-.94 2.06-2.06.94zm-11 1L8.5 8.5l.94-2.06 2.06-.94-2.06-.94L8.5 2.5l-.94 2.06-2.06.94zm10 10l.94 2.06.94-2.06 2.06-.94-2.06-.94-.94-2.06-.94 2.06-2.06.94z\"/><path d=\"M17.41 7.96l-1.37-1.37c-.4-.4-.92-.59-1.43-.59-.52 0-1.04.2-1.43.59L10.3 9.45l-7.72 7.72c-.78.78-.78 2.05 0 2.83L4 21.41c.39.39.9.59 1.41.59.51 0 1.02-.2 1.41-.59l7.78-7.78 2.81-2.81c.8-.78.8-2.07 0-2.86zM5.41 20L4 18.59l7.72-7.72 1.47 1.35L5.41 20z\"/>\n",
              "  </svg>\n",
              "      </button>\n",
              "      \n",
              "  <style>\n",
              "    .colab-df-container {\n",
              "      display:flex;\n",
              "      flex-wrap:wrap;\n",
              "      gap: 12px;\n",
              "    }\n",
              "\n",
              "    .colab-df-convert {\n",
              "      background-color: #E8F0FE;\n",
              "      border: none;\n",
              "      border-radius: 50%;\n",
              "      cursor: pointer;\n",
              "      display: none;\n",
              "      fill: #1967D2;\n",
              "      height: 32px;\n",
              "      padding: 0 0 0 0;\n",
              "      width: 32px;\n",
              "    }\n",
              "\n",
              "    .colab-df-convert:hover {\n",
              "      background-color: #E2EBFA;\n",
              "      box-shadow: 0px 1px 2px rgba(60, 64, 67, 0.3), 0px 1px 3px 1px rgba(60, 64, 67, 0.15);\n",
              "      fill: #174EA6;\n",
              "    }\n",
              "\n",
              "    [theme=dark] .colab-df-convert {\n",
              "      background-color: #3B4455;\n",
              "      fill: #D2E3FC;\n",
              "    }\n",
              "\n",
              "    [theme=dark] .colab-df-convert:hover {\n",
              "      background-color: #434B5C;\n",
              "      box-shadow: 0px 1px 3px 1px rgba(0, 0, 0, 0.15);\n",
              "      filter: drop-shadow(0px 1px 2px rgba(0, 0, 0, 0.3));\n",
              "      fill: #FFFFFF;\n",
              "    }\n",
              "  </style>\n",
              "\n",
              "      <script>\n",
              "        const buttonEl =\n",
              "          document.querySelector('#df-1cda72c3-73a0-42b1-b67d-ec05abebe3af button.colab-df-convert');\n",
              "        buttonEl.style.display =\n",
              "          google.colab.kernel.accessAllowed ? 'block' : 'none';\n",
              "\n",
              "        async function convertToInteractive(key) {\n",
              "          const element = document.querySelector('#df-1cda72c3-73a0-42b1-b67d-ec05abebe3af');\n",
              "          const dataTable =\n",
              "            await google.colab.kernel.invokeFunction('convertToInteractive',\n",
              "                                                     [key], {});\n",
              "          if (!dataTable) return;\n",
              "\n",
              "          const docLinkHtml = 'Like what you see? Visit the ' +\n",
              "            '<a target=\"_blank\" href=https://colab.research.google.com/notebooks/data_table.ipynb>data table notebook</a>'\n",
              "            + ' to learn more about interactive tables.';\n",
              "          element.innerHTML = '';\n",
              "          dataTable['output_type'] = 'display_data';\n",
              "          await google.colab.output.renderOutput(dataTable, element);\n",
              "          const docLink = document.createElement('div');\n",
              "          docLink.innerHTML = docLinkHtml;\n",
              "          element.appendChild(docLink);\n",
              "        }\n",
              "      </script>\n",
              "    </div>\n",
              "  </div>\n",
              "  "
            ],
            "text/plain": [
              "    Age  Anaemia  Creatinine_Phosphokinase  ...  Smoking  Time  Death_Event\n",
              "0  75.0        0                       582  ...        0     4            1\n",
              "1  55.0        0                      7861  ...        0     6            1\n",
              "2  65.0        0                       146  ...        1     7            1\n",
              "3  50.0        1                       111  ...        0     7            1\n",
              "4  65.0        1                       160  ...        0     8            1\n",
              "\n",
              "[5 rows x 13 columns]"
            ]
          },
          "metadata": {},
          "execution_count": 14
        }
      ]
    },
    {
      "cell_type": "code",
      "source": [
        "df.info()"
      ],
      "metadata": {
        "colab": {
          "base_uri": "https://localhost:8080/"
        },
        "id": "LCzGXT_wVF9w",
        "outputId": "3f4e28cb-7a48-4648-8b76-f69f3715d66a"
      },
      "execution_count": 15,
      "outputs": [
        {
          "output_type": "stream",
          "name": "stdout",
          "text": [
            "<class 'pandas.core.frame.DataFrame'>\n",
            "RangeIndex: 299 entries, 0 to 298\n",
            "Data columns (total 13 columns):\n",
            " #   Column                    Non-Null Count  Dtype  \n",
            "---  ------                    --------------  -----  \n",
            " 0   Age                       299 non-null    float64\n",
            " 1   Anaemia                   299 non-null    int64  \n",
            " 2   Creatinine_Phosphokinase  299 non-null    int64  \n",
            " 3   Diabetes                  299 non-null    int64  \n",
            " 4   Ejection_Fraction         299 non-null    int64  \n",
            " 5   High_Blood_Pressure       299 non-null    int64  \n",
            " 6   Platelets                 299 non-null    float64\n",
            " 7   Serum_creatinine          299 non-null    float64\n",
            " 8   Serum_Sodium              299 non-null    int64  \n",
            " 9   Sex                       299 non-null    int64  \n",
            " 10  Smoking                   299 non-null    int64  \n",
            " 11  Time                      299 non-null    int64  \n",
            " 12  Death_Event               299 non-null    int64  \n",
            "dtypes: float64(3), int64(10)\n",
            "memory usage: 30.5 KB\n"
          ]
        }
      ]
    },
    {
      "cell_type": "code",
      "source": [
        "# search for missing values -- no missing values\n",
        "df.isnull().sum()"
      ],
      "metadata": {
        "colab": {
          "base_uri": "https://localhost:8080/"
        },
        "id": "HfvCTXWtVcN3",
        "outputId": "3375fb7b-5c7e-42aa-85ca-f854c02f6ed5"
      },
      "execution_count": 16,
      "outputs": [
        {
          "output_type": "execute_result",
          "data": {
            "text/plain": [
              "Age                         0\n",
              "Anaemia                     0\n",
              "Creatinine_Phosphokinase    0\n",
              "Diabetes                    0\n",
              "Ejection_Fraction           0\n",
              "High_Blood_Pressure         0\n",
              "Platelets                   0\n",
              "Serum_creatinine            0\n",
              "Serum_Sodium                0\n",
              "Sex                         0\n",
              "Smoking                     0\n",
              "Time                        0\n",
              "Death_Event                 0\n",
              "dtype: int64"
            ]
          },
          "metadata": {},
          "execution_count": 16
        }
      ]
    },
    {
      "cell_type": "code",
      "source": [
        "# ckeck statistics\n",
        "df.describe().transpose()"
      ],
      "metadata": {
        "colab": {
          "base_uri": "https://localhost:8080/",
          "height": 457
        },
        "id": "UhOILBb5FwyN",
        "outputId": "99a7907a-a989-43a8-d41c-280d811d0485"
      },
      "execution_count": 17,
      "outputs": [
        {
          "output_type": "execute_result",
          "data": {
            "text/html": [
              "\n",
              "  <div id=\"df-9a60515b-65f2-4e7e-819c-032c0039cc0b\">\n",
              "    <div class=\"colab-df-container\">\n",
              "      <div>\n",
              "<style scoped>\n",
              "    .dataframe tbody tr th:only-of-type {\n",
              "        vertical-align: middle;\n",
              "    }\n",
              "\n",
              "    .dataframe tbody tr th {\n",
              "        vertical-align: top;\n",
              "    }\n",
              "\n",
              "    .dataframe thead th {\n",
              "        text-align: right;\n",
              "    }\n",
              "</style>\n",
              "<table border=\"1\" class=\"dataframe\">\n",
              "  <thead>\n",
              "    <tr style=\"text-align: right;\">\n",
              "      <th></th>\n",
              "      <th>count</th>\n",
              "      <th>mean</th>\n",
              "      <th>std</th>\n",
              "      <th>min</th>\n",
              "      <th>25%</th>\n",
              "      <th>50%</th>\n",
              "      <th>75%</th>\n",
              "      <th>max</th>\n",
              "    </tr>\n",
              "  </thead>\n",
              "  <tbody>\n",
              "    <tr>\n",
              "      <th>Age</th>\n",
              "      <td>299.0</td>\n",
              "      <td>60.833893</td>\n",
              "      <td>11.894809</td>\n",
              "      <td>40.0</td>\n",
              "      <td>51.0</td>\n",
              "      <td>60.0</td>\n",
              "      <td>70.0</td>\n",
              "      <td>95.0</td>\n",
              "    </tr>\n",
              "    <tr>\n",
              "      <th>Anaemia</th>\n",
              "      <td>299.0</td>\n",
              "      <td>0.431438</td>\n",
              "      <td>0.496107</td>\n",
              "      <td>0.0</td>\n",
              "      <td>0.0</td>\n",
              "      <td>0.0</td>\n",
              "      <td>1.0</td>\n",
              "      <td>1.0</td>\n",
              "    </tr>\n",
              "    <tr>\n",
              "      <th>Creatinine_Phosphokinase</th>\n",
              "      <td>299.0</td>\n",
              "      <td>581.839465</td>\n",
              "      <td>970.287881</td>\n",
              "      <td>23.0</td>\n",
              "      <td>116.5</td>\n",
              "      <td>250.0</td>\n",
              "      <td>582.0</td>\n",
              "      <td>7861.0</td>\n",
              "    </tr>\n",
              "    <tr>\n",
              "      <th>Diabetes</th>\n",
              "      <td>299.0</td>\n",
              "      <td>0.418060</td>\n",
              "      <td>0.494067</td>\n",
              "      <td>0.0</td>\n",
              "      <td>0.0</td>\n",
              "      <td>0.0</td>\n",
              "      <td>1.0</td>\n",
              "      <td>1.0</td>\n",
              "    </tr>\n",
              "    <tr>\n",
              "      <th>Ejection_Fraction</th>\n",
              "      <td>299.0</td>\n",
              "      <td>38.083612</td>\n",
              "      <td>11.834841</td>\n",
              "      <td>14.0</td>\n",
              "      <td>30.0</td>\n",
              "      <td>38.0</td>\n",
              "      <td>45.0</td>\n",
              "      <td>80.0</td>\n",
              "    </tr>\n",
              "    <tr>\n",
              "      <th>High_Blood_Pressure</th>\n",
              "      <td>299.0</td>\n",
              "      <td>0.351171</td>\n",
              "      <td>0.478136</td>\n",
              "      <td>0.0</td>\n",
              "      <td>0.0</td>\n",
              "      <td>0.0</td>\n",
              "      <td>1.0</td>\n",
              "      <td>1.0</td>\n",
              "    </tr>\n",
              "    <tr>\n",
              "      <th>Platelets</th>\n",
              "      <td>299.0</td>\n",
              "      <td>263358.029264</td>\n",
              "      <td>97804.236869</td>\n",
              "      <td>25100.0</td>\n",
              "      <td>212500.0</td>\n",
              "      <td>262000.0</td>\n",
              "      <td>303500.0</td>\n",
              "      <td>850000.0</td>\n",
              "    </tr>\n",
              "    <tr>\n",
              "      <th>Serum_creatinine</th>\n",
              "      <td>299.0</td>\n",
              "      <td>1.393880</td>\n",
              "      <td>1.034510</td>\n",
              "      <td>0.5</td>\n",
              "      <td>0.9</td>\n",
              "      <td>1.1</td>\n",
              "      <td>1.4</td>\n",
              "      <td>9.4</td>\n",
              "    </tr>\n",
              "    <tr>\n",
              "      <th>Serum_Sodium</th>\n",
              "      <td>299.0</td>\n",
              "      <td>136.625418</td>\n",
              "      <td>4.412477</td>\n",
              "      <td>113.0</td>\n",
              "      <td>134.0</td>\n",
              "      <td>137.0</td>\n",
              "      <td>140.0</td>\n",
              "      <td>148.0</td>\n",
              "    </tr>\n",
              "    <tr>\n",
              "      <th>Sex</th>\n",
              "      <td>299.0</td>\n",
              "      <td>0.648829</td>\n",
              "      <td>0.478136</td>\n",
              "      <td>0.0</td>\n",
              "      <td>0.0</td>\n",
              "      <td>1.0</td>\n",
              "      <td>1.0</td>\n",
              "      <td>1.0</td>\n",
              "    </tr>\n",
              "    <tr>\n",
              "      <th>Smoking</th>\n",
              "      <td>299.0</td>\n",
              "      <td>0.321070</td>\n",
              "      <td>0.467670</td>\n",
              "      <td>0.0</td>\n",
              "      <td>0.0</td>\n",
              "      <td>0.0</td>\n",
              "      <td>1.0</td>\n",
              "      <td>1.0</td>\n",
              "    </tr>\n",
              "    <tr>\n",
              "      <th>Time</th>\n",
              "      <td>299.0</td>\n",
              "      <td>130.260870</td>\n",
              "      <td>77.614208</td>\n",
              "      <td>4.0</td>\n",
              "      <td>73.0</td>\n",
              "      <td>115.0</td>\n",
              "      <td>203.0</td>\n",
              "      <td>285.0</td>\n",
              "    </tr>\n",
              "    <tr>\n",
              "      <th>Death_Event</th>\n",
              "      <td>299.0</td>\n",
              "      <td>0.321070</td>\n",
              "      <td>0.467670</td>\n",
              "      <td>0.0</td>\n",
              "      <td>0.0</td>\n",
              "      <td>0.0</td>\n",
              "      <td>1.0</td>\n",
              "      <td>1.0</td>\n",
              "    </tr>\n",
              "  </tbody>\n",
              "</table>\n",
              "</div>\n",
              "      <button class=\"colab-df-convert\" onclick=\"convertToInteractive('df-9a60515b-65f2-4e7e-819c-032c0039cc0b')\"\n",
              "              title=\"Convert this dataframe to an interactive table.\"\n",
              "              style=\"display:none;\">\n",
              "        \n",
              "  <svg xmlns=\"http://www.w3.org/2000/svg\" height=\"24px\"viewBox=\"0 0 24 24\"\n",
              "       width=\"24px\">\n",
              "    <path d=\"M0 0h24v24H0V0z\" fill=\"none\"/>\n",
              "    <path d=\"M18.56 5.44l.94 2.06.94-2.06 2.06-.94-2.06-.94-.94-2.06-.94 2.06-2.06.94zm-11 1L8.5 8.5l.94-2.06 2.06-.94-2.06-.94L8.5 2.5l-.94 2.06-2.06.94zm10 10l.94 2.06.94-2.06 2.06-.94-2.06-.94-.94-2.06-.94 2.06-2.06.94z\"/><path d=\"M17.41 7.96l-1.37-1.37c-.4-.4-.92-.59-1.43-.59-.52 0-1.04.2-1.43.59L10.3 9.45l-7.72 7.72c-.78.78-.78 2.05 0 2.83L4 21.41c.39.39.9.59 1.41.59.51 0 1.02-.2 1.41-.59l7.78-7.78 2.81-2.81c.8-.78.8-2.07 0-2.86zM5.41 20L4 18.59l7.72-7.72 1.47 1.35L5.41 20z\"/>\n",
              "  </svg>\n",
              "      </button>\n",
              "      \n",
              "  <style>\n",
              "    .colab-df-container {\n",
              "      display:flex;\n",
              "      flex-wrap:wrap;\n",
              "      gap: 12px;\n",
              "    }\n",
              "\n",
              "    .colab-df-convert {\n",
              "      background-color: #E8F0FE;\n",
              "      border: none;\n",
              "      border-radius: 50%;\n",
              "      cursor: pointer;\n",
              "      display: none;\n",
              "      fill: #1967D2;\n",
              "      height: 32px;\n",
              "      padding: 0 0 0 0;\n",
              "      width: 32px;\n",
              "    }\n",
              "\n",
              "    .colab-df-convert:hover {\n",
              "      background-color: #E2EBFA;\n",
              "      box-shadow: 0px 1px 2px rgba(60, 64, 67, 0.3), 0px 1px 3px 1px rgba(60, 64, 67, 0.15);\n",
              "      fill: #174EA6;\n",
              "    }\n",
              "\n",
              "    [theme=dark] .colab-df-convert {\n",
              "      background-color: #3B4455;\n",
              "      fill: #D2E3FC;\n",
              "    }\n",
              "\n",
              "    [theme=dark] .colab-df-convert:hover {\n",
              "      background-color: #434B5C;\n",
              "      box-shadow: 0px 1px 3px 1px rgba(0, 0, 0, 0.15);\n",
              "      filter: drop-shadow(0px 1px 2px rgba(0, 0, 0, 0.3));\n",
              "      fill: #FFFFFF;\n",
              "    }\n",
              "  </style>\n",
              "\n",
              "      <script>\n",
              "        const buttonEl =\n",
              "          document.querySelector('#df-9a60515b-65f2-4e7e-819c-032c0039cc0b button.colab-df-convert');\n",
              "        buttonEl.style.display =\n",
              "          google.colab.kernel.accessAllowed ? 'block' : 'none';\n",
              "\n",
              "        async function convertToInteractive(key) {\n",
              "          const element = document.querySelector('#df-9a60515b-65f2-4e7e-819c-032c0039cc0b');\n",
              "          const dataTable =\n",
              "            await google.colab.kernel.invokeFunction('convertToInteractive',\n",
              "                                                     [key], {});\n",
              "          if (!dataTable) return;\n",
              "\n",
              "          const docLinkHtml = 'Like what you see? Visit the ' +\n",
              "            '<a target=\"_blank\" href=https://colab.research.google.com/notebooks/data_table.ipynb>data table notebook</a>'\n",
              "            + ' to learn more about interactive tables.';\n",
              "          element.innerHTML = '';\n",
              "          dataTable['output_type'] = 'display_data';\n",
              "          await google.colab.output.renderOutput(dataTable, element);\n",
              "          const docLink = document.createElement('div');\n",
              "          docLink.innerHTML = docLinkHtml;\n",
              "          element.appendChild(docLink);\n",
              "        }\n",
              "      </script>\n",
              "    </div>\n",
              "  </div>\n",
              "  "
            ],
            "text/plain": [
              "                          count           mean  ...       75%       max\n",
              "Age                       299.0      60.833893  ...      70.0      95.0\n",
              "Anaemia                   299.0       0.431438  ...       1.0       1.0\n",
              "Creatinine_Phosphokinase  299.0     581.839465  ...     582.0    7861.0\n",
              "Diabetes                  299.0       0.418060  ...       1.0       1.0\n",
              "Ejection_Fraction         299.0      38.083612  ...      45.0      80.0\n",
              "High_Blood_Pressure       299.0       0.351171  ...       1.0       1.0\n",
              "Platelets                 299.0  263358.029264  ...  303500.0  850000.0\n",
              "Serum_creatinine          299.0       1.393880  ...       1.4       9.4\n",
              "Serum_Sodium              299.0     136.625418  ...     140.0     148.0\n",
              "Sex                       299.0       0.648829  ...       1.0       1.0\n",
              "Smoking                   299.0       0.321070  ...       1.0       1.0\n",
              "Time                      299.0     130.260870  ...     203.0     285.0\n",
              "Death_Event               299.0       0.321070  ...       1.0       1.0\n",
              "\n",
              "[13 rows x 8 columns]"
            ]
          },
          "metadata": {},
          "execution_count": 17
        }
      ]
    },
    {
      "cell_type": "markdown",
      "source": [
        "As we saw it is an ideal dataset :\n",
        "*   All the values are numeric\n",
        "*   There are no null values to impute\n",
        "*   No duplicate values\n",
        "\n",
        "Now lets proceed to some visualization"
      ],
      "metadata": {
        "id": "_sEqHa6EOM9g"
      }
    },
    {
      "cell_type": "code",
      "source": [
        "## import for visuals\n",
        "import matplotlib.pyplot as plt\n",
        "import seaborn as sns\n",
        "import plotly.express as px"
      ],
      "metadata": {
        "id": "Z7lG6YV2sN-m"
      },
      "execution_count": 18,
      "outputs": []
    },
    {
      "cell_type": "code",
      "source": [
        "## In order to understand better how all the features are distributed we are going to visualize them using histplot\n",
        "plt.figure(figsize = (20, 25))\n",
        "feature_num = 1\n",
        "for i in df:\n",
        "    if feature_num <= 13:\n",
        "        ax = plt.subplot(4, 4, feature_num)\n",
        "        sns.histplot(df[i])\n",
        "        plt.xlabel(i, fontsize = 12)\n",
        "        \n",
        "    feature_num += 1\n",
        "plt.show()"
      ],
      "metadata": {
        "id": "3DbVVxfsH72j",
        "colab": {
          "base_uri": "https://localhost:8080/",
          "height": 1000
        },
        "outputId": "9ff65053-d1ae-4b1f-d1aa-58404cf04d1d"
      },
      "execution_count": 19,
      "outputs": [
        {
          "output_type": "display_data",
          "data": {
            "image/png": "[encoded data removed]",
            "text/plain": [
              "<Figure size 1440x1800 with 13 Axes>"
            ]
          },
          "metadata": {
            "needs_background": "light"
          }
        }
      ]
    },
    {
      "cell_type": "markdown",
      "source": [
        "Conclusions from the visuals :\n",
        "There is a notable skew in certain features like platelets, creatinine_phosphokinase but will skip the same as these features seem to have less impact on survival as we will see below"
      ],
      "metadata": {
        "id": "DwnzSfM3Nggf"
      }
    },
    {
      "cell_type": "code",
      "source": [
        "## heatmap\n",
        "plt.figure(figsize=(15,10))\n",
        "sns.heatmap(df.corr(),cmap=\"Blues\")"
      ],
      "metadata": {
        "colab": {
          "base_uri": "https://localhost:8080/",
          "height": 734
        },
        "id": "ZhFhS-1wEEYA",
        "outputId": "d11beb15-d9cf-4a0c-d232-5178052387fe"
      },
      "execution_count": 20,
      "outputs": [
        {
          "output_type": "execute_result",
          "data": {
            "text/plain": [
              "<matplotlib.axes._subplots.AxesSubplot at 0x7f5a68f78f50>"
            ]
          },
          "metadata": {},
          "execution_count": 20
        },
        {
          "output_type": "display_data",
          "data": {
            "image/png": "[encoded data removed]",
            "text/plain": [
              "<Figure size 1080x720 with 2 Axes>"
            ]
          },
          "metadata": {
            "needs_background": "light"
          }
        }
      ]
    },
    {
      "cell_type": "markdown",
      "source": [
        "Conclusions from the heatmap :\n",
        "\n",
        "\n",
        "*   Death event looks to be highly correlated with serum_creatinine and age\n",
        "*   Survival event looks to be highly correlated with time, ejection_fraction, serum_sodium\n",
        "*   Sex and smoking have the least correlation with DEATH_EVENT"
      ],
      "metadata": {
        "id": "O0Aw1NdxQGFw"
      }
    },
    {
      "cell_type": "code",
      "source": [
        "# With this plot, we have the possible scenerios for a given patient according to their categorical values\n",
        "fig = px.parallel_categories(df[[\"Sex\",\"Smoking\",\"Diabetes\",\"Anaemia\",\"High_Blood_Pressure\",\"Death_Event\"]], color='Death_Event', color_continuous_scale=px.colors.sequential.Inferno)\n",
        "fig.show()"
      ],
      "metadata": {
        "id": "Br2SJrm5pBTm",
        "outputId": "eb290b69-5feb-44d6-bee3-825cc5074d4f",
        "colab": {
          "base_uri": "https://localhost:8080/",
          "height": 542
        }
      },
      "execution_count": 21,
      "outputs": [
        {
          "output_type": "display_data",
          "data": {
            "text/html": [
              "<html>\n",
              "<head><meta charset=\"utf-8\" /></head>\n",
              "<body>\n",
              "    <div>            <script src=\"https://cdnjs.cloudflare.com/ajax/libs/mathjax/2.7.5/MathJax.js?config=TeX-AMS-MML_SVG\"></script><script type=\"text/javascript\">if (window.MathJax) {MathJax.Hub.Config({SVG: {font: \"STIX-Web\"}});}</script>                <script type=\"text/javascript\">window.PlotlyConfig = {MathJaxConfig: 'local'};</script>\n",
              "        <script src=\"https://cdn.plot.ly/plotly-2.8.3.min.js\"></script>                <div id=\"c5e61d4e-0daa-4437-a277-c3e2d57b1948\" class=\"plotly-graph-div\" style=\"height:525px; width:100%;\"></div>            <script type=\"text/javascript\">                                    window.PLOTLYENV=window.PLOTLYENV || {};                                    if (document.getElementById(\"c5e61d4e-0daa-4437-a277-c3e2d57b1948\")) {                    Plotly.newPlot(                        \"c5e61d4e-0daa-4437-a277-c3e2d57b1948\",                        [{\"dimensions\":[{\"label\":\"Sex\",\"values\":[1,1,1,1,0,1,1,1,0,1,1,1,1,1,0,1,1,1,0,0,0,0,1,1,0,1,0,1,1,1,1,1,0,0,1,1,1,0,1,0,1,0,1,1,0,1,1,1,1,0,1,0,0,0,0,1,1,1,1,1,1,0,1,1,0,1,0,1,0,1,1,1,1,1,1,1,0,1,1,0,0,1,0,1,0,1,1,1,1,1,1,1,0,1,0,1,1,0,0,0,1,1,1,1,0,0,1,1,1,1,1,1,1,0,1,0,0,0,0,0,1,0,0,0,1,0,0,0,1,1,1,1,0,1,1,1,0,1,0,1,1,0,0,0,1,1,1,1,1,1,0,1,1,1,0,1,0,1,1,1,1,1,1,0,1,0,1,1,0,0,1,1,1,1,1,1,1,0,1,1,1,1,1,1,1,1,0,0,0,0,1,0,1,1,1,1,0,0,0,1,1,1,1,1,1,0,0,1,0,0,1,1,1,0,1,1,0,0,1,0,1,1,1,1,1,0,1,1,0,0,0,1,1,1,1,1,1,1,0,1,0,1,1,0,1,1,1,1,1,0,0,0,1,0,1,1,0,1,1,1,1,0,1,0,1,1,1,1,0,1,1,0,0,1,1,0,0,1,0,0,1,1,1,1,1,1,1,0,0,0,0,1,1,1,1,0,0,1,1]},{\"label\":\"Smoking\",\"values\":[0,0,1,0,0,1,0,1,0,1,1,1,0,0,0,0,0,0,0,0,0,0,1,0,0,1,0,1,0,1,0,0,0,0,0,0,0,0,0,0,1,1,1,0,0,1,0,1,0,0,0,0,0,0,1,0,1,1,1,1,0,0,1,0,0,1,0,1,0,0,1,1,1,1,1,1,1,0,1,0,0,1,0,0,0,0,0,0,0,0,1,0,0,0,0,0,0,0,0,0,0,0,1,1,0,1,0,0,1,1,1,1,0,0,0,0,0,0,0,0,1,0,0,0,0,0,0,0,1,0,1,0,0,1,1,0,0,0,0,0,0,0,0,0,1,1,1,0,0,0,0,0,1,1,0,0,0,1,0,1,0,1,1,0,0,0,1,0,0,0,1,1,1,0,1,1,1,0,0,1,0,1,1,0,1,0,0,0,0,0,0,0,0,1,0,0,0,0,0,1,0,0,0,1,1,0,0,0,0,0,1,1,1,0,0,0,0,0,0,0,0,1,1,0,0,0,1,0,0,0,0,1,0,1,1,0,0,0,0,1,0,1,1,0,0,0,0,0,1,0,0,0,0,0,0,1,0,0,0,1,0,0,0,0,0,1,1,0,0,0,1,0,0,0,1,0,0,0,0,0,0,1,1,1,0,0,0,0,0,0,0,0,1,1,1,0,0,1,1]},{\"label\":\"Diabetes\",\"values\":[0,0,0,0,1,0,0,1,0,0,0,0,0,0,0,0,0,0,0,1,0,1,0,1,1,1,0,1,0,1,1,0,1,1,1,1,1,1,1,1,0,1,1,1,1,1,0,1,0,0,0,0,1,1,1,0,0,0,0,1,1,0,0,0,0,0,1,0,0,1,0,1,0,1,0,0,0,1,1,0,0,0,1,0,1,0,0,1,1,0,1,1,0,0,1,0,1,0,1,1,0,0,0,0,0,0,0,1,0,1,0,0,1,0,1,0,1,0,1,0,0,1,1,0,0,0,1,1,0,1,0,1,0,0,0,0,1,0,1,0,0,0,1,0,0,0,0,0,0,0,0,1,0,1,0,1,0,0,0,0,0,0,0,1,1,1,0,1,1,0,1,0,0,0,1,0,0,0,1,0,1,1,1,0,0,1,0,1,1,0,1,0,1,1,0,0,1,0,1,1,0,1,0,0,0,1,0,0,1,1,1,0,0,1,0,0,0,0,1,1,0,0,0,0,1,1,0,0,0,0,0,0,0,0,0,0,0,0,1,0,1,1,0,0,1,1,0,0,0,1,0,1,0,1,0,1,0,1,1,0,0,0,1,1,1,0,0,1,1,1,1,1,0,0,1,0,0,1,1,1,1,0,0,0,0,1,0,1,1,0,1,0,1,1,1,0,1,0,0]},{\"label\":\"Anaemia\",\"values\":[0,0,0,1,1,1,1,1,0,1,1,0,1,1,1,1,1,0,1,1,1,1,1,0,0,0,1,0,1,0,0,0,1,1,0,0,1,1,0,0,0,0,0,0,1,0,0,0,1,1,1,1,0,1,1,1,1,1,0,0,0,0,0,0,0,0,1,1,0,0,0,0,0,0,0,1,0,0,1,0,0,0,1,1,1,0,0,1,0,1,0,0,0,1,0,1,1,1,1,1,1,0,0,0,0,1,0,1,0,0,0,0,0,1,1,1,1,1,1,0,1,1,0,1,0,1,0,1,0,1,1,1,0,0,0,0,1,1,0,0,0,1,0,1,1,0,0,0,1,0,0,0,0,0,1,1,1,0,1,1,1,1,1,1,0,0,0,0,0,0,1,0,1,1,0,1,0,1,1,0,0,1,0,0,1,1,0,0,1,0,0,1,1,1,0,1,0,0,1,0,1,0,0,0,1,1,1,0,1,0,0,0,0,1,1,0,0,1,1,0,0,0,1,0,0,0,1,1,0,0,0,0,1,1,1,1,0,0,1,1,0,0,0,1,0,1,0,0,0,0,0,0,0,0,1,1,0,0,1,0,0,1,1,1,0,1,0,1,0,0,0,0,0,0,1,0,0,0,1,0,0,0,0,0,1,1,0,0,0,1,0,0,0,1,0,0,0,0,0]},{\"label\":\"High_Blood_Pressure\",\"values\":[1,0,0,0,0,1,0,0,0,1,1,1,0,1,1,0,0,0,1,0,1,1,1,0,1,0,1,1,0,0,1,0,1,0,1,0,0,1,0,0,1,1,1,1,0,0,1,1,1,0,1,1,0,1,0,0,0,0,1,1,1,1,0,0,0,0,0,0,0,0,0,0,0,0,0,0,1,0,1,1,0,0,0,1,1,0,1,1,1,1,0,0,0,0,1,1,1,0,1,0,0,1,0,0,1,1,0,0,0,0,0,0,0,0,1,0,1,0,1,0,1,1,0,1,0,0,1,0,1,0,1,0,1,1,0,0,0,0,0,1,0,0,0,1,1,0,0,0,0,1,1,1,1,0,1,0,0,0,0,1,1,0,0,0,0,1,0,0,0,1,0,0,1,0,1,0,0,0,0,0,0,0,0,1,0,0,0,0,1,1,0,0,0,0,1,0,1,0,1,0,0,1,1,1,0,0,0,0,0,1,1,1,0,1,1,1,1,1,0,1,0,0,0,0,0,0,0,1,0,0,0,0,0,0,0,1,1,0,0,0,1,0,0,1,0,0,0,0,0,0,1,0,1,1,1,1,0,1,0,0,0,0,0,0,0,0,0,0,0,0,1,0,0,0,0,1,0,0,0,0,0,0,0,0,0,0,0,0,0,0,0,0,0,0,1,0,0,0,0]},{\"label\":\"Death_Event\",\"values\":[1,1,1,1,1,1,1,1,1,1,1,1,1,1,0,1,1,1,1,1,0,1,1,0,1,1,1,1,1,1,1,1,1,0,1,1,1,1,0,1,1,1,1,0,1,1,1,1,1,1,1,1,1,1,1,1,0,0,1,1,1,1,0,1,0,1,1,1,1,1,0,0,1,0,1,1,0,0,0,0,0,0,1,0,1,0,0,0,0,0,0,0,0,1,0,0,0,0,0,0,0,0,0,0,0,1,0,0,0,0,1,0,0,1,0,0,0,0,0,1,0,0,0,0,1,0,1,0,0,0,0,0,0,0,0,0,0,0,0,0,1,0,0,0,1,0,0,0,1,0,1,0,0,0,0,0,0,0,0,0,0,0,0,1,1,1,0,1,0,0,0,0,0,0,0,0,0,0,0,0,0,1,1,1,1,1,1,1,0,0,0,0,0,0,1,1,0,0,0,0,0,0,0,0,0,0,0,0,0,0,0,0,0,1,0,0,0,1,0,0,1,0,0,0,0,0,0,0,0,0,1,0,0,0,0,0,0,0,0,0,0,0,0,0,0,0,1,0,0,0,0,0,0,0,0,0,0,0,0,0,0,0,1,0,0,0,1,0,0,0,0,0,0,0,0,0,0,0,0,0,0,0,0,0,0,0,0,0,0,0,0,0,0,0,0,0,0,0,0]}],\"domain\":{\"x\":[0.0,1.0],\"y\":[0.0,1.0]},\"line\":{\"color\":[1,1,1,1,1,1,1,1,1,1,1,1,1,1,0,1,1,1,1,1,0,1,1,0,1,1,1,1,1,1,1,1,1,0,1,1,1,1,0,1,1,1,1,0,1,1,1,1,1,1,1,1,1,1,1,1,0,0,1,1,1,1,0,1,0,1,1,1,1,1,0,0,1,0,1,1,0,0,0,0,0,0,1,0,1,0,0,0,0,0,0,0,0,1,0,0,0,0,0,0,0,0,0,0,0,1,0,0,0,0,1,0,0,1,0,0,0,0,0,1,0,0,0,0,1,0,1,0,0,0,0,0,0,0,0,0,0,0,0,0,1,0,0,0,1,0,0,0,1,0,1,0,0,0,0,0,0,0,0,0,0,0,0,1,1,1,0,1,0,0,0,0,0,0,0,0,0,0,0,0,0,1,1,1,1,1,1,1,0,0,0,0,0,0,1,1,0,0,0,0,0,0,0,0,0,0,0,0,0,0,0,0,0,1,0,0,0,1,0,0,1,0,0,0,0,0,0,0,0,0,1,0,0,0,0,0,0,0,0,0,0,0,0,0,0,0,1,0,0,0,0,0,0,0,0,0,0,0,0,0,0,0,1,0,0,0,1,0,0,0,0,0,0,0,0,0,0,0,0,0,0,0,0,0,0,0,0,0,0,0,0,0,0,0,0,0,0,0,0],\"coloraxis\":\"coloraxis\"},\"name\":\"\",\"type\":\"parcats\"}],                        {\"template\":{\"data\":{\"bar\":[{\"error_x\":{\"color\":\"#2a3f5f\"},\"error_y\":{\"color\":\"#2a3f5f\"},\"marker\":{\"line\":{\"color\":\"#E5ECF6\",\"width\":0.5},\"pattern\":{\"fillmode\":\"overlay\",\"size\":10,\"solidity\":0.2}},\"type\":\"bar\"}],\"barpolar\":[{\"marker\":{\"line\":{\"color\":\"#E5ECF6\",\"width\":0.5},\"pattern\":{\"fillmode\":\"overlay\",\"size\":10,\"solidity\":0.2}},\"type\":\"barpolar\"}],\"carpet\":[{\"aaxis\":{\"endlinecolor\":\"#2a3f5f\",\"gridcolor\":\"white\",\"linecolor\":\"white\",\"minorgridcolor\":\"white\",\"startlinecolor\":\"#2a3f5f\"},\"baxis\":{\"endlinecolor\":\"#2a3f5f\",\"gridcolor\":\"white\",\"linecolor\":\"white\",\"minorgridcolor\":\"white\",\"startlinecolor\":\"#2a3f5f\"},\"type\":\"carpet\"}],\"choropleth\":[{\"colorbar\":{\"outlinewidth\":0,\"ticks\":\"\"},\"type\":\"choropleth\"}],\"contour\":[{\"colorbar\":{\"outlinewidth\":0,\"ticks\":\"\"},\"colorscale\":[[0.0,\"#0d0887\"],[0.1111111111111111,\"#46039f\"],[0.2222222222222222,\"#7201a8\"],[0.3333333333333333,\"#9c179e\"],[0.4444444444444444,\"#bd3786\"],[0.5555555555555556,\"#d8576b\"],[0.6666666666666666,\"#ed7953\"],[0.7777777777777778,\"#fb9f3a\"],[0.8888888888888888,\"#fdca26\"],[1.0,\"#f0f921\"]],\"type\":\"contour\"}],\"contourcarpet\":[{\"colorbar\":{\"outlinewidth\":0,\"ticks\":\"\"},\"type\":\"contourcarpet\"}],\"heatmap\":[{\"colorbar\":{\"outlinewidth\":0,\"ticks\":\"\"},\"colorscale\":[[0.0,\"#0d0887\"],[0.1111111111111111,\"#46039f\"],[0.2222222222222222,\"#7201a8\"],[0.3333333333333333,\"#9c179e\"],[0.4444444444444444,\"#bd3786\"],[0.5555555555555556,\"#d8576b\"],[0.6666666666666666,\"#ed7953\"],[0.7777777777777778,\"#fb9f3a\"],[0.8888888888888888,\"#fdca26\"],[1.0,\"#f0f921\"]],\"type\":\"heatmap\"}],\"heatmapgl\":[{\"colorbar\":{\"outlinewidth\":0,\"ticks\":\"\"},\"colorscale\":[[0.0,\"#0d0887\"],[0.1111111111111111,\"#46039f\"],[0.2222222222222222,\"#7201a8\"],[0.3333333333333333,\"#9c179e\"],[0.4444444444444444,\"#bd3786\"],[0.5555555555555556,\"#d8576b\"],[0.6666666666666666,\"#ed7953\"],[0.7777777777777778,\"#fb9f3a\"],[0.8888888888888888,\"#fdca26\"],[1.0,\"#f0f921\"]],\"type\":\"heatmapgl\"}],\"histogram\":[{\"marker\":{\"pattern\":{\"fillmode\":\"overlay\",\"size\":10,\"solidity\":0.2}},\"type\":\"histogram\"}],\"histogram2d\":[{\"colorbar\":{\"outlinewidth\":0,\"ticks\":\"\"},\"colorscale\":[[0.0,\"#0d0887\"],[0.1111111111111111,\"#46039f\"],[0.2222222222222222,\"#7201a8\"],[0.3333333333333333,\"#9c179e\"],[0.4444444444444444,\"#bd3786\"],[0.5555555555555556,\"#d8576b\"],[0.6666666666666666,\"#ed7953\"],[0.7777777777777778,\"#fb9f3a\"],[0.8888888888888888,\"#fdca26\"],[1.0,\"#f0f921\"]],\"type\":\"histogram2d\"}],\"histogram2dcontour\":[{\"colorbar\":{\"outlinewidth\":0,\"ticks\":\"\"},\"colorscale\":[[0.0,\"#0d0887\"],[0.1111111111111111,\"#46039f\"],[0.2222222222222222,\"#7201a8\"],[0.3333333333333333,\"#9c179e\"],[0.4444444444444444,\"#bd3786\"],[0.5555555555555556,\"#d8576b\"],[0.6666666666666666,\"#ed7953\"],[0.7777777777777778,\"#fb9f3a\"],[0.8888888888888888,\"#fdca26\"],[1.0,\"#f0f921\"]],\"type\":\"histogram2dcontour\"}],\"mesh3d\":[{\"colorbar\":{\"outlinewidth\":0,\"ticks\":\"\"},\"type\":\"mesh3d\"}],\"parcoords\":[{\"line\":{\"colorbar\":{\"outlinewidth\":0,\"ticks\":\"\"}},\"type\":\"parcoords\"}],\"pie\":[{\"automargin\":true,\"type\":\"pie\"}],\"scatter\":[{\"marker\":{\"colorbar\":{\"outlinewidth\":0,\"ticks\":\"\"}},\"type\":\"scatter\"}],\"scatter3d\":[{\"line\":{\"colorbar\":{\"outlinewidth\":0,\"ticks\":\"\"}},\"marker\":{\"colorbar\":{\"outlinewidth\":0,\"ticks\":\"\"}},\"type\":\"scatter3d\"}],\"scattercarpet\":[{\"marker\":{\"colorbar\":{\"outlinewidth\":0,\"ticks\":\"\"}},\"type\":\"scattercarpet\"}],\"scattergeo\":[{\"marker\":{\"colorbar\":{\"outlinewidth\":0,\"ticks\":\"\"}},\"type\":\"scattergeo\"}],\"scattergl\":[{\"marker\":{\"colorbar\":{\"outlinewidth\":0,\"ticks\":\"\"}},\"type\":\"scattergl\"}],\"scattermapbox\":[{\"marker\":{\"colorbar\":{\"outlinewidth\":0,\"ticks\":\"\"}},\"type\":\"scattermapbox\"}],\"scatterpolar\":[{\"marker\":{\"colorbar\":{\"outlinewidth\":0,\"ticks\":\"\"}},\"type\":\"scatterpolar\"}],\"scatterpolargl\":[{\"marker\":{\"colorbar\":{\"outlinewidth\":0,\"ticks\":\"\"}},\"type\":\"scatterpolargl\"}],\"scatterternary\":[{\"marker\":{\"colorbar\":{\"outlinewidth\":0,\"ticks\":\"\"}},\"type\":\"scatterternary\"}],\"surface\":[{\"colorbar\":{\"outlinewidth\":0,\"ticks\":\"\"},\"colorscale\":[[0.0,\"#0d0887\"],[0.1111111111111111,\"#46039f\"],[0.2222222222222222,\"#7201a8\"],[0.3333333333333333,\"#9c179e\"],[0.4444444444444444,\"#bd3786\"],[0.5555555555555556,\"#d8576b\"],[0.6666666666666666,\"#ed7953\"],[0.7777777777777778,\"#fb9f3a\"],[0.8888888888888888,\"#fdca26\"],[1.0,\"#f0f921\"]],\"type\":\"surface\"}],\"table\":[{\"cells\":{\"fill\":{\"color\":\"#EBF0F8\"},\"line\":{\"color\":\"white\"}},\"header\":{\"fill\":{\"color\":\"#C8D4E3\"},\"line\":{\"color\":\"white\"}},\"type\":\"table\"}]},\"layout\":{\"annotationdefaults\":{\"arrowcolor\":\"#2a3f5f\",\"arrowhead\":0,\"arrowwidth\":1},\"autotypenumbers\":\"strict\",\"coloraxis\":{\"colorbar\":{\"outlinewidth\":0,\"ticks\":\"\"}},\"colorscale\":{\"diverging\":[[0,\"#8e0152\"],[0.1,\"#c51b7d\"],[0.2,\"#de77ae\"],[0.3,\"#f1b6da\"],[0.4,\"#fde0ef\"],[0.5,\"#f7f7f7\"],[0.6,\"#e6f5d0\"],[0.7,\"#b8e186\"],[0.8,\"#7fbc41\"],[0.9,\"#4d9221\"],[1,\"#276419\"]],\"sequential\":[[0.0,\"#0d0887\"],[0.1111111111111111,\"#46039f\"],[0.2222222222222222,\"#7201a8\"],[0.3333333333333333,\"#9c179e\"],[0.4444444444444444,\"#bd3786\"],[0.5555555555555556,\"#d8576b\"],[0.6666666666666666,\"#ed7953\"],[0.7777777777777778,\"#fb9f3a\"],[0.8888888888888888,\"#fdca26\"],[1.0,\"#f0f921\"]],\"sequentialminus\":[[0.0,\"#0d0887\"],[0.1111111111111111,\"#46039f\"],[0.2222222222222222,\"#7201a8\"],[0.3333333333333333,\"#9c179e\"],[0.4444444444444444,\"#bd3786\"],[0.5555555555555556,\"#d8576b\"],[0.6666666666666666,\"#ed7953\"],[0.7777777777777778,\"#fb9f3a\"],[0.8888888888888888,\"#fdca26\"],[1.0,\"#f0f921\"]]},\"colorway\":[\"#636efa\",\"#EF553B\",\"#00cc96\",\"#ab63fa\",\"#FFA15A\",\"#19d3f3\",\"#FF6692\",\"#B6E880\",\"#FF97FF\",\"#FECB52\"],\"font\":{\"color\":\"#2a3f5f\"},\"geo\":{\"bgcolor\":\"white\",\"lakecolor\":\"white\",\"landcolor\":\"#E5ECF6\",\"showlakes\":true,\"showland\":true,\"subunitcolor\":\"white\"},\"hoverlabel\":{\"align\":\"left\"},\"hovermode\":\"closest\",\"mapbox\":{\"style\":\"light\"},\"paper_bgcolor\":\"white\",\"plot_bgcolor\":\"#E5ECF6\",\"polar\":{\"angularaxis\":{\"gridcolor\":\"white\",\"linecolor\":\"white\",\"ticks\":\"\"},\"bgcolor\":\"#E5ECF6\",\"radialaxis\":{\"gridcolor\":\"white\",\"linecolor\":\"white\",\"ticks\":\"\"}},\"scene\":{\"xaxis\":{\"backgroundcolor\":\"#E5ECF6\",\"gridcolor\":\"white\",\"gridwidth\":2,\"linecolor\":\"white\",\"showbackground\":true,\"ticks\":\"\",\"zerolinecolor\":\"white\"},\"yaxis\":{\"backgroundcolor\":\"#E5ECF6\",\"gridcolor\":\"white\",\"gridwidth\":2,\"linecolor\":\"white\",\"showbackground\":true,\"ticks\":\"\",\"zerolinecolor\":\"white\"},\"zaxis\":{\"backgroundcolor\":\"#E5ECF6\",\"gridcolor\":\"white\",\"gridwidth\":2,\"linecolor\":\"white\",\"showbackground\":true,\"ticks\":\"\",\"zerolinecolor\":\"white\"}},\"shapedefaults\":{\"line\":{\"color\":\"#2a3f5f\"}},\"ternary\":{\"aaxis\":{\"gridcolor\":\"white\",\"linecolor\":\"white\",\"ticks\":\"\"},\"baxis\":{\"gridcolor\":\"white\",\"linecolor\":\"white\",\"ticks\":\"\"},\"bgcolor\":\"#E5ECF6\",\"caxis\":{\"gridcolor\":\"white\",\"linecolor\":\"white\",\"ticks\":\"\"}},\"title\":{\"x\":0.05},\"xaxis\":{\"automargin\":true,\"gridcolor\":\"white\",\"linecolor\":\"white\",\"ticks\":\"\",\"title\":{\"standoff\":15},\"zerolinecolor\":\"white\",\"zerolinewidth\":2},\"yaxis\":{\"automargin\":true,\"gridcolor\":\"white\",\"linecolor\":\"white\",\"ticks\":\"\",\"title\":{\"standoff\":15},\"zerolinecolor\":\"white\",\"zerolinewidth\":2}}},\"coloraxis\":{\"colorbar\":{\"title\":{\"text\":\"Death_Event\"}},\"colorscale\":[[0.0,\"#000004\"],[0.1111111111111111,\"#1b0c41\"],[0.2222222222222222,\"#4a0c6b\"],[0.3333333333333333,\"#781c6d\"],[0.4444444444444444,\"#a52c60\"],[0.5555555555555556,\"#cf4446\"],[0.6666666666666666,\"#ed6925\"],[0.7777777777777778,\"#fb9b06\"],[0.8888888888888888,\"#f7d13d\"],[1.0,\"#fcffa4\"]]},\"legend\":{\"tracegroupgap\":0},\"margin\":{\"t\":60}},                        {\"responsive\": true}                    ).then(function(){\n",
              "                            \n",
              "var gd = document.getElementById('c5e61d4e-0daa-4437-a277-c3e2d57b1948');\n",
              "var x = new MutationObserver(function (mutations, observer) {{\n",
              "        var display = window.getComputedStyle(gd).display;\n",
              "        if (!display || display === 'none') {{\n",
              "            console.log([gd, 'removed!']);\n",
              "            Plotly.purge(gd);\n",
              "            observer.disconnect();\n",
              "        }}\n",
              "}});\n",
              "\n",
              "// Listen for the removal of the full notebook cells\n",
              "var notebookContainer = gd.closest('#notebook-container');\n",
              "if (notebookContainer) {{\n",
              "    x.observe(notebookContainer, {childList: true});\n",
              "}}\n",
              "\n",
              "// Listen for the clearing of the current output cell\n",
              "var outputEl = gd.closest('.output');\n",
              "if (outputEl) {{\n",
              "    x.observe(outputEl, {childList: true});\n",
              "}}\n",
              "\n",
              "                        })                };                            </script>        </div>\n",
              "</body>\n",
              "</html>"
            ]
          },
          "metadata": {}
        }
      ]
    },
    {
      "cell_type": "markdown",
      "source": [
        "###No problem found in dataset so we can proceed with the calculations\n",
        "\n",
        "##*## Subject 3 ## Perform method Random Forest to check the results of the paper*\n",
        "\n"
      ],
      "metadata": {
        "id": "gLnnojDWfHr7"
      }
    },
    {
      "cell_type": "code",
      "source": [
        "import numpy as np\n",
        "import matplotlib.pyplot as plt\n",
        "from sklearn.preprocessing import StandardScaler\n",
        "from sklearn.metrics import classification_report,accuracy_score, recall_score\n",
        "from sklearn.ensemble import RandomForestClassifier\n",
        "from sklearn.model_selection import train_test_split,cross_val_score"
      ],
      "metadata": {
        "id": "htX22K55CPkq"
      },
      "execution_count": 22,
      "outputs": []
    },
    {
      "cell_type": "code",
      "source": [
        "# delete time feature to be the same with method in paper\n",
        "df_without_time = df.drop(columns='Time')\n",
        "\n",
        "# create \n",
        "x = df_without_time.drop(columns='Death_Event')\n",
        "y = df_without_time['Death_Event']"
      ],
      "metadata": {
        "id": "uvFnvLqW0Weh"
      },
      "execution_count": 23,
      "outputs": []
    },
    {
      "cell_type": "markdown",
      "source": [
        "###Feature Importance\n",
        "Feature importance is a procedure to assign scores to features to indicate the relative importance of each feature when building a model. The scores provide insight into the dataset, telling us which features are the most or the least relevant. After building the model, we use feature_importances_ to view the relative importance scores of each feature. We can interpret from the bar chart below that **Serum Creatinine** is the most importance feature in prediction."
      ],
      "metadata": {
        "id": "O2QaXuvGXTj1"
      }
    },
    {
      "cell_type": "code",
      "source": [
        "# run random forest method\n",
        "model = RandomForestClassifier()\n",
        "model.fit(x,y)\n",
        "print(model.feature_importances_)"
      ],
      "metadata": {
        "colab": {
          "base_uri": "https://localhost:8080/"
        },
        "id": "OYMjgy4dzPOE",
        "outputId": "f6dfb953-29a5-4da2-abc6-02dee9cbf247"
      },
      "execution_count": 24,
      "outputs": [
        {
          "output_type": "stream",
          "name": "stdout",
          "text": [
            "[0.15168853 0.02023368 0.1304682  0.02190274 0.18325412 0.02089418\n",
            " 0.123971   0.19328466 0.11445083 0.02108651 0.01876553]\n"
          ]
        }
      ]
    },
    {
      "cell_type": "code",
      "source": [
        "# results in visual\n",
        "sort = model.feature_importances_.argsort()\n",
        "plt.barh(x.columns[sort], model.feature_importances_[sort])\n",
        "plt.xlabel(\"Feature Importance\")"
      ],
      "metadata": {
        "colab": {
          "base_uri": "https://localhost:8080/",
          "height": 296
        },
        "id": "7_RwDtGpVki9",
        "outputId": "abaf8ebd-cfbc-4efc-d785-764c4838e60f"
      },
      "execution_count": 25,
      "outputs": [
        {
          "output_type": "execute_result",
          "data": {
            "text/plain": [
              "Text(0.5, 0, 'Feature Importance')"
            ]
          },
          "metadata": {},
          "execution_count": 25
        },
        {
          "output_type": "display_data",
          "data": {
            "image/png": "[encoded data removed]",
            "text/plain": [
              "<Figure size 432x288 with 1 Axes>"
            ]
          },
          "metadata": {
            "needs_background": "light"
          }
        }
      ]
    },
    {
      "cell_type": "markdown",
      "source": [
        "###Now lets create the accuracy score"
      ],
      "metadata": {
        "id": "drHIDXu4CZJG"
      }
    },
    {
      "cell_type": "code",
      "source": [
        "# Create the frames for the method random forest\n",
        "inp_data = df_without_time.drop(columns='Death_Event')\n",
        "out_data = df_without_time[['Death_Event']]"
      ],
      "metadata": {
        "id": "5Ng9i7nsAjhu"
      },
      "execution_count": 26,
      "outputs": []
    },
    {
      "cell_type": "code",
      "source": [
        "def result(clf, inp1 ,out1 ):\n",
        "\n",
        "## split to 70 - 30 % as the paper\n",
        "    X_train, X_test, y_train, y_test = train_test_split(inp1, out1, test_size=0.3, random_state=0)\n",
        "\n",
        "## Applying Transformer\n",
        "    sc      = StandardScaler()\n",
        "    X_train = sc.fit_transform(X_train)\n",
        "    X_test  = sc.fit_transform(X_test)\n",
        "\n",
        "    print(\"-> Number of split train and test : \\n\")\n",
        "    print(\"  X_train Shape : \", X_train.shape)\n",
        "    print(\"  X_test Shape  : \", X_test.shape)\n",
        "    print(\"  y_train Shape : \", y_train.shape)\n",
        "    print(\"  y_test Shape  : \", y_test.shape , \"\\n\")\n",
        "\n",
        "## Fit and predict values  \n",
        "    clf.fit(X_train, y_train.values.ravel())\n",
        "    y_pred = clf.predict(X_test)\n",
        "\n",
        "## Print Scores   \n",
        "    train_accuracy = clf.score(X_train, y_train.values.ravel())\n",
        "    test_accuracy  = clf.score(X_test, y_test)\n",
        "    cv_accuracy    = np.mean(cross_val_score(clf, X_train, y_train.values.ravel(), cv=5))\n",
        "    #accuracies.append([d, train_accuracy, test_accuracy, cv_accuracy])\n",
        "\n",
        "    print('->Final print scores :\\n')\n",
        "    print('  Train Accuracy Score %.4f  ' % train_accuracy )\n",
        "    print('  Test Accuracy Score  %.4f  ' % test_accuracy  )\n",
        "    print('  cv_accuracy Score %.4f     ' % cv_accuracy    )"
      ],
      "metadata": {
        "id": "lS1OfuEGN5Dx"
      },
      "execution_count": 27,
      "outputs": []
    },
    {
      "cell_type": "code",
      "source": [
        "## run random forest and print scores \n",
        "clf = RandomForestClassifier(random_state=0)\n",
        "result(clf, inp_data, out_data)"
      ],
      "metadata": {
        "colab": {
          "base_uri": "https://localhost:8080/"
        },
        "id": "ZdS1C5mJIby7",
        "outputId": "c2872515-6c8f-4b92-dc2f-a92ce7049e91"
      },
      "execution_count": 28,
      "outputs": [
        {
          "output_type": "stream",
          "name": "stdout",
          "text": [
            "-> Number of split train and test : \n",
            "\n",
            "  X_train Shape :  (209, 11)\n",
            "  X_test Shape  :  (90, 11)\n",
            "  y_train Shape :  (209, 1)\n",
            "  y_test Shape  :  (90, 1) \n",
            "\n",
            "->Final print scores :\n",
            "\n",
            "  Train Accuracy Score 1.0000  \n",
            "  Test Accuracy Score  0.7444  \n",
            "  cv_accuracy Score 0.7177     \n"
          ]
        }
      ]
    },
    {
      "cell_type": "markdown",
      "source": [
        "We successfully reproduced the method of Random Forest as the paper with Accuracy Score equal to 0.74\n",
        "  \n",
        "### Run random forest in a loop to find the mean and best accuracy\n",
        "To go further we will perform a loop of 100 times to produce the best and mean score of accuracy in order to compare them later with the corresponding amounts of random forest method after PCA implementation"
      ],
      "metadata": {
        "id": "bh83gHrXdDRV"
      }
    },
    {
      "cell_type": "code",
      "source": [
        "## Create funtion to find best and mean accuracy over 100 loops\n",
        "def best_mean_result(clf, inp1, out1, n_estimators = 100, max_features ='auto', max_depth = None, min_samples_split=11 ):    \n",
        "    \n",
        "    scores = [] \n",
        "    for i in range(0,100): # 100 samples\n",
        "        n_estimators, max_features, max_depth, min_samples_split\n",
        "        X_train, X_test, y_train, y_test = train_test_split(inp1, out1, test_size=0.3)\n",
        "        clf = RandomForestClassifier(n_estimators      = n_estimators,\n",
        "                                     max_features      = max_features,\n",
        "                                     max_depth         = max_depth,\n",
        "                                     min_samples_split = min_samples_split) \n",
        "        \n",
        "        sc      = StandardScaler()\n",
        "        X_train = sc.fit_transform(X_train)\n",
        "        X_test  = sc.fit_transform(X_test)\n",
        "        clf.fit(X_train, y_train.values.ravel())\n",
        "        scores.append(accuracy_score(clf.predict(X_test), y_test)) \n",
        "\n",
        "    plt.hist(scores)\n",
        "    plt.show()\n",
        "    print(\"Best Score: {}\\nMean Score: {}\".format(np.max(scores), np.mean(scores)))"
      ],
      "metadata": {
        "id": "nU0DPPYFN2tf"
      },
      "execution_count": 29,
      "outputs": []
    },
    {
      "cell_type": "code",
      "source": [
        "## run best mean for random forest\n",
        "best_mean_result(clf, inp_data, out_data)"
      ],
      "metadata": {
        "colab": {
          "base_uri": "https://localhost:8080/",
          "height": 303
        },
        "id": "Uoyu3ZnbPKAo",
        "outputId": "eb365bf6-7917-4802-f453-622746f010d0"
      },
      "execution_count": 30,
      "outputs": [
        {
          "output_type": "display_data",
          "data": {
            "image/png": "[encoded data removed]",
            "text/plain": [
              "<Figure size 432x288 with 1 Axes>"
            ]
          },
          "metadata": {
            "needs_background": "light"
          }
        },
        {
          "output_type": "stream",
          "name": "stdout",
          "text": [
            "Best Score: 0.8\n",
            "Mean Score: 0.7318888888888888\n"
          ]
        }
      ]
    },
    {
      "cell_type": "markdown",
      "source": [
        "##*## Subject 4 ## Perform PCA to reduce the features and after that implement method Random Forest to check the results*\n",
        "Apply PCA on the continuous variables to get better visualizations. We use PCA to reduce the dimensionality of the dataset. PCA accomplishes this by capturing the variance in the dataset. It gets the components in such a way that they are in the direction of the highest variance"
      ],
      "metadata": {
        "id": "JVkxvZk6A8Zw"
      }
    },
    {
      "cell_type": "code",
      "source": [
        "## imports for running pca part\n",
        "from sklearn.preprocessing import MinMaxScaler\n",
        "from sklearn.decomposition import PCA\n",
        "from sklearn.model_selection import train_test_split, cross_val_score"
      ],
      "metadata": {
        "id": "-945Qqp2GrcW"
      },
      "execution_count": 31,
      "outputs": []
    },
    {
      "cell_type": "code",
      "source": [
        "## In order to perform PCA method , we separate the features to continuous and categorical \n",
        "cont_cols = ['Creatinine_Phosphokinase', 'Platelets','Serum_creatinine', 'Serum_Sodium', 'Ejection_Fraction','Age']\n",
        "cat_vars = ['Anaemia', 'Diabetes', 'High_Blood_Pressure', 'Sex', 'Smoking','Death_Event']"
      ],
      "metadata": {
        "id": "hhqdQqquFnGc"
      },
      "execution_count": 32,
      "outputs": []
    },
    {
      "cell_type": "code",
      "source": [
        "# find min max value for categorical features and create a unified dataframe with continuous features using MinMaxScaler\n",
        "scaler = MinMaxScaler()\n",
        "scaled_features = scaler.fit_transform(df_without_time[['Creatinine_Phosphokinase', 'Platelets','Serum_creatinine', 'Serum_Sodium', 'Ejection_Fraction','Age']])\n",
        "scaled_df = df_without_time.copy()\n",
        "scaled_df[cont_cols] = scaled_features\n",
        "scaled_df.head()"
      ],
      "metadata": {
        "id": "dBgE0BNhGrVO",
        "colab": {
          "base_uri": "https://localhost:8080/",
          "height": 206
        },
        "outputId": "bb887141-a30d-4b94-e385-f838b64485f3"
      },
      "execution_count": 33,
      "outputs": [
        {
          "output_type": "execute_result",
          "data": {
            "text/html": [
              "\n",
              "  <div id=\"df-2f5a0c2c-21c6-483b-8f6a-a969f1d8476c\">\n",
              "    <div class=\"colab-df-container\">\n",
              "      <div>\n",
              "<style scoped>\n",
              "    .dataframe tbody tr th:only-of-type {\n",
              "        vertical-align: middle;\n",
              "    }\n",
              "\n",
              "    .dataframe tbody tr th {\n",
              "        vertical-align: top;\n",
              "    }\n",
              "\n",
              "    .dataframe thead th {\n",
              "        text-align: right;\n",
              "    }\n",
              "</style>\n",
              "<table border=\"1\" class=\"dataframe\">\n",
              "  <thead>\n",
              "    <tr style=\"text-align: right;\">\n",
              "      <th></th>\n",
              "      <th>Age</th>\n",
              "      <th>Anaemia</th>\n",
              "      <th>Creatinine_Phosphokinase</th>\n",
              "      <th>Diabetes</th>\n",
              "      <th>Ejection_Fraction</th>\n",
              "      <th>High_Blood_Pressure</th>\n",
              "      <th>Platelets</th>\n",
              "      <th>Serum_creatinine</th>\n",
              "      <th>Serum_Sodium</th>\n",
              "      <th>Sex</th>\n",
              "      <th>Smoking</th>\n",
              "      <th>Death_Event</th>\n",
              "    </tr>\n",
              "  </thead>\n",
              "  <tbody>\n",
              "    <tr>\n",
              "      <th>0</th>\n",
              "      <td>0.636364</td>\n",
              "      <td>0</td>\n",
              "      <td>0.071319</td>\n",
              "      <td>0</td>\n",
              "      <td>0.090909</td>\n",
              "      <td>1</td>\n",
              "      <td>0.290823</td>\n",
              "      <td>0.157303</td>\n",
              "      <td>0.485714</td>\n",
              "      <td>1</td>\n",
              "      <td>0</td>\n",
              "      <td>1</td>\n",
              "    </tr>\n",
              "    <tr>\n",
              "      <th>1</th>\n",
              "      <td>0.272727</td>\n",
              "      <td>0</td>\n",
              "      <td>1.000000</td>\n",
              "      <td>0</td>\n",
              "      <td>0.363636</td>\n",
              "      <td>0</td>\n",
              "      <td>0.288833</td>\n",
              "      <td>0.067416</td>\n",
              "      <td>0.657143</td>\n",
              "      <td>1</td>\n",
              "      <td>0</td>\n",
              "      <td>1</td>\n",
              "    </tr>\n",
              "    <tr>\n",
              "      <th>2</th>\n",
              "      <td>0.454545</td>\n",
              "      <td>0</td>\n",
              "      <td>0.015693</td>\n",
              "      <td>0</td>\n",
              "      <td>0.090909</td>\n",
              "      <td>0</td>\n",
              "      <td>0.165960</td>\n",
              "      <td>0.089888</td>\n",
              "      <td>0.457143</td>\n",
              "      <td>1</td>\n",
              "      <td>1</td>\n",
              "      <td>1</td>\n",
              "    </tr>\n",
              "    <tr>\n",
              "      <th>3</th>\n",
              "      <td>0.181818</td>\n",
              "      <td>1</td>\n",
              "      <td>0.011227</td>\n",
              "      <td>0</td>\n",
              "      <td>0.090909</td>\n",
              "      <td>0</td>\n",
              "      <td>0.224148</td>\n",
              "      <td>0.157303</td>\n",
              "      <td>0.685714</td>\n",
              "      <td>1</td>\n",
              "      <td>0</td>\n",
              "      <td>1</td>\n",
              "    </tr>\n",
              "    <tr>\n",
              "      <th>4</th>\n",
              "      <td>0.454545</td>\n",
              "      <td>1</td>\n",
              "      <td>0.017479</td>\n",
              "      <td>1</td>\n",
              "      <td>0.090909</td>\n",
              "      <td>0</td>\n",
              "      <td>0.365984</td>\n",
              "      <td>0.247191</td>\n",
              "      <td>0.085714</td>\n",
              "      <td>0</td>\n",
              "      <td>0</td>\n",
              "      <td>1</td>\n",
              "    </tr>\n",
              "  </tbody>\n",
              "</table>\n",
              "</div>\n",
              "      <button class=\"colab-df-convert\" onclick=\"convertToInteractive('df-2f5a0c2c-21c6-483b-8f6a-a969f1d8476c')\"\n",
              "              title=\"Convert this dataframe to an interactive table.\"\n",
              "              style=\"display:none;\">\n",
              "        \n",
              "  <svg xmlns=\"http://www.w3.org/2000/svg\" height=\"24px\"viewBox=\"0 0 24 24\"\n",
              "       width=\"24px\">\n",
              "    <path d=\"M0 0h24v24H0V0z\" fill=\"none\"/>\n",
              "    <path d=\"M18.56 5.44l.94 2.06.94-2.06 2.06-.94-2.06-.94-.94-2.06-.94 2.06-2.06.94zm-11 1L8.5 8.5l.94-2.06 2.06-.94-2.06-.94L8.5 2.5l-.94 2.06-2.06.94zm10 10l.94 2.06.94-2.06 2.06-.94-2.06-.94-.94-2.06-.94 2.06-2.06.94z\"/><path d=\"M17.41 7.96l-1.37-1.37c-.4-.4-.92-.59-1.43-.59-.52 0-1.04.2-1.43.59L10.3 9.45l-7.72 7.72c-.78.78-.78 2.05 0 2.83L4 21.41c.39.39.9.59 1.41.59.51 0 1.02-.2 1.41-.59l7.78-7.78 2.81-2.81c.8-.78.8-2.07 0-2.86zM5.41 20L4 18.59l7.72-7.72 1.47 1.35L5.41 20z\"/>\n",
              "  </svg>\n",
              "      </button>\n",
              "      \n",
              "  <style>\n",
              "    .colab-df-container {\n",
              "      display:flex;\n",
              "      flex-wrap:wrap;\n",
              "      gap: 12px;\n",
              "    }\n",
              "\n",
              "    .colab-df-convert {\n",
              "      background-color: #E8F0FE;\n",
              "      border: none;\n",
              "      border-radius: 50%;\n",
              "      cursor: pointer;\n",
              "      display: none;\n",
              "      fill: #1967D2;\n",
              "      height: 32px;\n",
              "      padding: 0 0 0 0;\n",
              "      width: 32px;\n",
              "    }\n",
              "\n",
              "    .colab-df-convert:hover {\n",
              "      background-color: #E2EBFA;\n",
              "      box-shadow: 0px 1px 2px rgba(60, 64, 67, 0.3), 0px 1px 3px 1px rgba(60, 64, 67, 0.15);\n",
              "      fill: #174EA6;\n",
              "    }\n",
              "\n",
              "    [theme=dark] .colab-df-convert {\n",
              "      background-color: #3B4455;\n",
              "      fill: #D2E3FC;\n",
              "    }\n",
              "\n",
              "    [theme=dark] .colab-df-convert:hover {\n",
              "      background-color: #434B5C;\n",
              "      box-shadow: 0px 1px 3px 1px rgba(0, 0, 0, 0.15);\n",
              "      filter: drop-shadow(0px 1px 2px rgba(0, 0, 0, 0.3));\n",
              "      fill: #FFFFFF;\n",
              "    }\n",
              "  </style>\n",
              "\n",
              "      <script>\n",
              "        const buttonEl =\n",
              "          document.querySelector('#df-2f5a0c2c-21c6-483b-8f6a-a969f1d8476c button.colab-df-convert');\n",
              "        buttonEl.style.display =\n",
              "          google.colab.kernel.accessAllowed ? 'block' : 'none';\n",
              "\n",
              "        async function convertToInteractive(key) {\n",
              "          const element = document.querySelector('#df-2f5a0c2c-21c6-483b-8f6a-a969f1d8476c');\n",
              "          const dataTable =\n",
              "            await google.colab.kernel.invokeFunction('convertToInteractive',\n",
              "                                                     [key], {});\n",
              "          if (!dataTable) return;\n",
              "\n",
              "          const docLinkHtml = 'Like what you see? Visit the ' +\n",
              "            '<a target=\"_blank\" href=https://colab.research.google.com/notebooks/data_table.ipynb>data table notebook</a>'\n",
              "            + ' to learn more about interactive tables.';\n",
              "          element.innerHTML = '';\n",
              "          dataTable['output_type'] = 'display_data';\n",
              "          await google.colab.output.renderOutput(dataTable, element);\n",
              "          const docLink = document.createElement('div');\n",
              "          docLink.innerHTML = docLinkHtml;\n",
              "          element.appendChild(docLink);\n",
              "        }\n",
              "      </script>\n",
              "    </div>\n",
              "  </div>\n",
              "  "
            ],
            "text/plain": [
              "        Age  Anaemia  Creatinine_Phosphokinase  ...  Sex  Smoking  Death_Event\n",
              "0  0.636364        0                  0.071319  ...    1        0            1\n",
              "1  0.272727        0                  1.000000  ...    1        0            1\n",
              "2  0.454545        0                  0.015693  ...    1        1            1\n",
              "3  0.181818        1                  0.011227  ...    1        0            1\n",
              "4  0.454545        1                  0.017479  ...    0        0            1\n",
              "\n",
              "[5 rows x 12 columns]"
            ]
          },
          "metadata": {},
          "execution_count": 33
        }
      ]
    },
    {
      "cell_type": "code",
      "source": [
        "## now perform the PCA\n",
        "pca_data = scaled_df.drop(columns='Death_Event')\n",
        "pca1 = PCA()\n",
        "X_train_rf = pca1.fit_transform(pca_data)\n",
        "pca1.fit_transform(pca_data).shape"
      ],
      "metadata": {
        "colab": {
          "base_uri": "https://localhost:8080/"
        },
        "id": "7F84qPgEKiX7",
        "outputId": "4b19c963-1578-454b-8019-39361ddf3d05"
      },
      "execution_count": 34,
      "outputs": [
        {
          "output_type": "execute_result",
          "data": {
            "text/plain": [
              "(299, 11)"
            ]
          },
          "metadata": {},
          "execution_count": 34
        }
      ]
    },
    {
      "cell_type": "markdown",
      "source": [
        "### Decision on how many PCA components we are going to keep"
      ],
      "metadata": {
        "id": "xOCxpdV5nE_2"
      }
    },
    {
      "cell_type": "code",
      "source": [
        "## Plot the variance of the new calculated features from PCA\n",
        "percentage_variance = np.round(pca1.explained_variance_ratio_ * 100, decimals=2)\n",
        "xlabels = ['PC' + str(x) for x in range(1, len(percentage_variance)+1)]\n",
        "\n",
        "plt.plot(range(1,len(percentage_variance)+1), percentage_variance, '-o')\n",
        "plt.axvline(x=7, color='red', linestyle='--')\n",
        "plt.ylabel('Percentage of Explained Variance')\n",
        "plt.xlabel('Principal Component')\n",
        "plt.title('Scree Plot')\n",
        "plt.show()"
      ],
      "metadata": {
        "colab": {
          "base_uri": "https://localhost:8080/",
          "height": 295
        },
        "id": "jqm8ija8Prfr",
        "outputId": "06ef992c-56d4-434c-befa-db1bfca22096"
      },
      "execution_count": 35,
      "outputs": [
        {
          "output_type": "display_data",
          "data": {
            "image/png": "[encoded data removed]",
            "text/plain": [
              "<Figure size 432x288 with 1 Axes>"
            ]
          },
          "metadata": {
            "needs_background": "light"
          }
        }
      ]
    },
    {
      "cell_type": "code",
      "source": [
        "## set score to 0.95 and fit to find how many features it is best to keep\n",
        "pca95 = PCA(n_components=0.95)\n",
        "X_train_reduced_rf = pca95.fit_transform(pca_data)\n",
        "pca95.fit_transform(pca_data).shape"
      ],
      "metadata": {
        "colab": {
          "base_uri": "https://localhost:8080/"
        },
        "id": "jmTzHBxgUVIF",
        "outputId": "28fb4bd2-e0b6-4101-ea4d-516e277bb347"
      },
      "execution_count": 36,
      "outputs": [
        {
          "output_type": "execute_result",
          "data": {
            "text/plain": [
              "(299, 7)"
            ]
          },
          "metadata": {},
          "execution_count": 36
        }
      ]
    },
    {
      "cell_type": "markdown",
      "source": [
        "As we can see from the previous diagram, from component number 7 and after the variance does not change significantly, so we will keep the range of components 1-7.\n",
        "\n",
        "Also we calculated the previous optical observation using code. We indicated the ratio of variance that we wanted to preserve to 95% of the dataset's variance, so we define n_components=0.95 (between 0.0 to 1.0) . After transformation, the dimensionality has been reduced from 11 to 7 components.\n",
        "\n",
        "Now let see in a visual way the contribution of the original features at the new corresponding Principal Components Features :"
      ],
      "metadata": {
        "id": "G2jFJCyfLD3p"
      }
    },
    {
      "cell_type": "code",
      "source": [
        "## create visuals for the new componenets of PCA about the contribution of the initial features\n",
        "fig, ax = plt.subplots(nrows=6, ncols=2, figsize=(30, 20))\n",
        "\n",
        "row = -1; col = 0\n",
        "for i in range(0,11):\n",
        "    \n",
        "    if(i%2 == 0): \n",
        "        col = 0\n",
        "        row = row + 1\n",
        "    else: \n",
        "        col=1\n",
        "    \n",
        "    sns.barplot(x=abs(pca1.components_[i]), y=pca_data.columns, orient='h', ax=ax[row][col])\n",
        "    ax[row][col].set_title('Principal Component ' + str(i+1))"
      ],
      "metadata": {
        "id": "yiWJ2XjSUaEL",
        "colab": {
          "base_uri": "https://localhost:8080/",
          "height": 983
        },
        "outputId": "0b150070-d713-4466-e560-699252af4966"
      },
      "execution_count": 37,
      "outputs": [
        {
          "output_type": "display_data",
          "data": {
            "image/png": "[encoded data removed]",
            "text/plain": [
              "<Figure size 2160x1440 with 12 Axes>"
            ]
          },
          "metadata": {
            "needs_background": "light"
          }
        }
      ]
    },
    {
      "cell_type": "markdown",
      "source": [
        "###Feature Importance of variables after PCA"
      ],
      "metadata": {
        "id": "6klODxgBNU8e"
      }
    },
    {
      "cell_type": "code",
      "source": [
        "# check what pca components to keep from variance \n",
        "sns.set(style='whitegrid')\n",
        "plt.plot(np.cumsum(pca1.explained_variance_ratio_))\n",
        "plt.xlabel('number of components')\n",
        "plt.ylabel('cumulative explained variance')\n",
        "plt.axvline(linewidth=4, color='r', linestyle = '--', x=6, ymin=0, ymax=1)\n",
        "display(plt.show())\n",
        "\n",
        "evr = pca1.explained_variance_ratio_\n",
        "cvr = np.cumsum(pca1.explained_variance_ratio_)\n",
        "pca_df = pd.DataFrame()\n",
        "pca_df['Cumulative Variance Ratio'] = cvr\n",
        "pca_df['Explained Variance Ratio'] = evr\n",
        "display(pca_df.head(11))"
      ],
      "metadata": {
        "colab": {
          "base_uri": "https://localhost:8080/",
          "height": 680
        },
        "id": "nwvnSHuvmfoH",
        "outputId": "7cef7269-8a29-4b45-8e43-060ef1f594ce"
      },
      "execution_count": 38,
      "outputs": [
        {
          "output_type": "display_data",
          "data": {
            "image/png": "[encoded data removed]",
            "text/plain": [
              "<Figure size 432x288 with 1 Axes>"
            ]
          },
          "metadata": {}
        },
        {
          "output_type": "display_data",
          "data": {
            "text/plain": [
              "None"
            ]
          },
          "metadata": {}
        },
        {
          "output_type": "display_data",
          "data": {
            "text/html": [
              "\n",
              "  <div id=\"df-aec47695-20b6-412f-895b-84ce99b6ccee\">\n",
              "    <div class=\"colab-df-container\">\n",
              "      <div>\n",
              "<style scoped>\n",
              "    .dataframe tbody tr th:only-of-type {\n",
              "        vertical-align: middle;\n",
              "    }\n",
              "\n",
              "    .dataframe tbody tr th {\n",
              "        vertical-align: top;\n",
              "    }\n",
              "\n",
              "    .dataframe thead th {\n",
              "        text-align: right;\n",
              "    }\n",
              "</style>\n",
              "<table border=\"1\" class=\"dataframe\">\n",
              "  <thead>\n",
              "    <tr style=\"text-align: right;\">\n",
              "      <th></th>\n",
              "      <th>Cumulative Variance Ratio</th>\n",
              "      <th>Explained Variance Ratio</th>\n",
              "    </tr>\n",
              "  </thead>\n",
              "  <tbody>\n",
              "    <tr>\n",
              "      <th>0</th>\n",
              "      <td>0.276792</td>\n",
              "      <td>0.276792</td>\n",
              "    </tr>\n",
              "    <tr>\n",
              "      <th>1</th>\n",
              "      <td>0.471398</td>\n",
              "      <td>0.194606</td>\n",
              "    </tr>\n",
              "    <tr>\n",
              "      <th>2</th>\n",
              "      <td>0.645410</td>\n",
              "      <td>0.174012</td>\n",
              "    </tr>\n",
              "    <tr>\n",
              "      <th>3</th>\n",
              "      <td>0.802523</td>\n",
              "      <td>0.157112</td>\n",
              "    </tr>\n",
              "    <tr>\n",
              "      <th>4</th>\n",
              "      <td>0.897650</td>\n",
              "      <td>0.095127</td>\n",
              "    </tr>\n",
              "    <tr>\n",
              "      <th>5</th>\n",
              "      <td>0.932956</td>\n",
              "      <td>0.035307</td>\n",
              "    </tr>\n",
              "    <tr>\n",
              "      <th>6</th>\n",
              "      <td>0.957527</td>\n",
              "      <td>0.024571</td>\n",
              "    </tr>\n",
              "    <tr>\n",
              "      <th>7</th>\n",
              "      <td>0.970443</td>\n",
              "      <td>0.012917</td>\n",
              "    </tr>\n",
              "    <tr>\n",
              "      <th>8</th>\n",
              "      <td>0.981411</td>\n",
              "      <td>0.010968</td>\n",
              "    </tr>\n",
              "    <tr>\n",
              "      <th>9</th>\n",
              "      <td>0.991530</td>\n",
              "      <td>0.010119</td>\n",
              "    </tr>\n",
              "    <tr>\n",
              "      <th>10</th>\n",
              "      <td>1.000000</td>\n",
              "      <td>0.008470</td>\n",
              "    </tr>\n",
              "  </tbody>\n",
              "</table>\n",
              "</div>\n",
              "      <button class=\"colab-df-convert\" onclick=\"convertToInteractive('df-aec47695-20b6-412f-895b-84ce99b6ccee')\"\n",
              "              title=\"Convert this dataframe to an interactive table.\"\n",
              "              style=\"display:none;\">\n",
              "        \n",
              "  <svg xmlns=\"http://www.w3.org/2000/svg\" height=\"24px\"viewBox=\"0 0 24 24\"\n",
              "       width=\"24px\">\n",
              "    <path d=\"M0 0h24v24H0V0z\" fill=\"none\"/>\n",
              "    <path d=\"M18.56 5.44l.94 2.06.94-2.06 2.06-.94-2.06-.94-.94-2.06-.94 2.06-2.06.94zm-11 1L8.5 8.5l.94-2.06 2.06-.94-2.06-.94L8.5 2.5l-.94 2.06-2.06.94zm10 10l.94 2.06.94-2.06 2.06-.94-2.06-.94-.94-2.06-.94 2.06-2.06.94z\"/><path d=\"M17.41 7.96l-1.37-1.37c-.4-.4-.92-.59-1.43-.59-.52 0-1.04.2-1.43.59L10.3 9.45l-7.72 7.72c-.78.78-.78 2.05 0 2.83L4 21.41c.39.39.9.59 1.41.59.51 0 1.02-.2 1.41-.59l7.78-7.78 2.81-2.81c.8-.78.8-2.07 0-2.86zM5.41 20L4 18.59l7.72-7.72 1.47 1.35L5.41 20z\"/>\n",
              "  </svg>\n",
              "      </button>\n",
              "      \n",
              "  <style>\n",
              "    .colab-df-container {\n",
              "      display:flex;\n",
              "      flex-wrap:wrap;\n",
              "      gap: 12px;\n",
              "    }\n",
              "\n",
              "    .colab-df-convert {\n",
              "      background-color: #E8F0FE;\n",
              "      border: none;\n",
              "      border-radius: 50%;\n",
              "      cursor: pointer;\n",
              "      display: none;\n",
              "      fill: #1967D2;\n",
              "      height: 32px;\n",
              "      padding: 0 0 0 0;\n",
              "      width: 32px;\n",
              "    }\n",
              "\n",
              "    .colab-df-convert:hover {\n",
              "      background-color: #E2EBFA;\n",
              "      box-shadow: 0px 1px 2px rgba(60, 64, 67, 0.3), 0px 1px 3px 1px rgba(60, 64, 67, 0.15);\n",
              "      fill: #174EA6;\n",
              "    }\n",
              "\n",
              "    [theme=dark] .colab-df-convert {\n",
              "      background-color: #3B4455;\n",
              "      fill: #D2E3FC;\n",
              "    }\n",
              "\n",
              "    [theme=dark] .colab-df-convert:hover {\n",
              "      background-color: #434B5C;\n",
              "      box-shadow: 0px 1px 3px 1px rgba(0, 0, 0, 0.15);\n",
              "      filter: drop-shadow(0px 1px 2px rgba(0, 0, 0, 0.3));\n",
              "      fill: #FFFFFF;\n",
              "    }\n",
              "  </style>\n",
              "\n",
              "      <script>\n",
              "        const buttonEl =\n",
              "          document.querySelector('#df-aec47695-20b6-412f-895b-84ce99b6ccee button.colab-df-convert');\n",
              "        buttonEl.style.display =\n",
              "          google.colab.kernel.accessAllowed ? 'block' : 'none';\n",
              "\n",
              "        async function convertToInteractive(key) {\n",
              "          const element = document.querySelector('#df-aec47695-20b6-412f-895b-84ce99b6ccee');\n",
              "          const dataTable =\n",
              "            await google.colab.kernel.invokeFunction('convertToInteractive',\n",
              "                                                     [key], {});\n",
              "          if (!dataTable) return;\n",
              "\n",
              "          const docLinkHtml = 'Like what you see? Visit the ' +\n",
              "            '<a target=\"_blank\" href=https://colab.research.google.com/notebooks/data_table.ipynb>data table notebook</a>'\n",
              "            + ' to learn more about interactive tables.';\n",
              "          element.innerHTML = '';\n",
              "          dataTable['output_type'] = 'display_data';\n",
              "          await google.colab.output.renderOutput(dataTable, element);\n",
              "          const docLink = document.createElement('div');\n",
              "          docLink.innerHTML = docLinkHtml;\n",
              "          element.appendChild(docLink);\n",
              "        }\n",
              "      </script>\n",
              "    </div>\n",
              "  </div>\n",
              "  "
            ],
            "text/plain": [
              "    Cumulative Variance Ratio  Explained Variance Ratio\n",
              "0                    0.276792                  0.276792\n",
              "1                    0.471398                  0.194606\n",
              "2                    0.645410                  0.174012\n",
              "3                    0.802523                  0.157112\n",
              "4                    0.897650                  0.095127\n",
              "5                    0.932956                  0.035307\n",
              "6                    0.957527                  0.024571\n",
              "7                    0.970443                  0.012917\n",
              "8                    0.981411                  0.010968\n",
              "9                    0.991530                  0.010119\n",
              "10                   1.000000                  0.008470"
            ]
          },
          "metadata": {}
        }
      ]
    },
    {
      "cell_type": "markdown",
      "source": [
        "The previous graph also shows that after more than 7 components, we don’t gain very much explained variance."
      ],
      "metadata": {
        "id": "_W-eSA7ljkSA"
      }
    },
    {
      "cell_type": "markdown",
      "source": [
        "### Implementation of RF after PCA "
      ],
      "metadata": {
        "id": "_9Z-y-ALnSPW"
      }
    },
    {
      "cell_type": "markdown",
      "source": [
        "Last we will implement again the method of Random Forest but now on the features calculated from PCA. As we will see the accuracy of Random Forest model decrease after PCA is applied and same goes with best and mean score after 100 runs  :  \n",
        "\n",
        "> Test Accuracy\n",
        "\n",
        "*   Before PCA : 0.744\n",
        "*   After  PCA : 0.722 \n",
        "\n",
        "> Best Accuracy\n",
        "\n",
        "*   Before PCA : 0.822\n",
        "*   After  PCA : 0.811\n",
        "\n",
        "> Mean Accuracy\n",
        "\n",
        "*   Before PCA : 0.736\n",
        "*   After  PCA : 0.732"
      ],
      "metadata": {
        "id": "PhsEXTIJgBcY"
      }
    },
    {
      "cell_type": "code",
      "source": [
        "# run Random Forest with reduced variables after PCA\n",
        "clf_pca = RandomForestClassifier(random_state=0)\n",
        "result(clf_pca,X_train_reduced_rf, out_data )\n"
      ],
      "metadata": {
        "colab": {
          "base_uri": "https://localhost:8080/"
        },
        "id": "uFLc-uiBWZIy",
        "outputId": "39a6fc43-9444-48e6-e0fa-eb5c9de15adf"
      },
      "execution_count": 39,
      "outputs": [
        {
          "output_type": "stream",
          "name": "stdout",
          "text": [
            "-> Number of split train and test : \n",
            "\n",
            "  X_train Shape :  (209, 7)\n",
            "  X_test Shape  :  (90, 7)\n",
            "  y_train Shape :  (209, 1)\n",
            "  y_test Shape  :  (90, 1) \n",
            "\n",
            "->Final print scores :\n",
            "\n",
            "  Train Accuracy Score 1.0000  \n",
            "  Test Accuracy Score  0.7222  \n",
            "  cv_accuracy Score 0.7271     \n"
          ]
        }
      ]
    },
    {
      "cell_type": "code",
      "source": [
        "## run best mean for random forest after pca\n",
        "best_mean_result(clf_pca,X_train_reduced_rf, out_data )"
      ],
      "metadata": {
        "colab": {
          "base_uri": "https://localhost:8080/",
          "height": 305
        },
        "id": "FtPrXmfjXRLl",
        "outputId": "54638c17-78f2-4b38-d412-cd4f7f2d4238"
      },
      "execution_count": 40,
      "outputs": [
        {
          "output_type": "display_data",
          "data": {
            "image/png": "[encoded data removed]",
            "text/plain": [
              "<Figure size 432x288 with 1 Axes>"
            ]
          },
          "metadata": {}
        },
        {
          "output_type": "stream",
          "name": "stdout",
          "text": [
            "Best Score: 0.8111111111111111\n",
            "Mean Score: 0.7346666666666667\n"
          ]
        }
      ]
    },
    {
      "cell_type": "markdown",
      "source": [
        "From this experiment, we can conclude that reducing the dimensionality of the dataset does not always perform a better result than using all dimensions.\n",
        "\n",
        "##*## Subject 5 ## Compare variance of initial features with those that produced from PCA*"
      ],
      "metadata": {
        "id": "5zOUHOenX6MB"
      }
    },
    {
      "cell_type": "markdown",
      "source": [
        "Plot feature importance for the two Random Forest methods applied ( on initial dataset and after PCA with all features )"
      ],
      "metadata": {
        "id": "f6OXXP0NWuEh"
      }
    },
    {
      "cell_type": "code",
      "source": [
        "initial_features_importance = model.feature_importances_.tolist()\n",
        "initial_features_importance.sort(reverse=True)\n",
        "\n",
        "plt.figure()\n",
        "plt.title(\"FEATURES IMPORTANCE\")\n",
        "plt.plot(np.cumsum(initial_features_importance), label='Initial Features')\n",
        "plt.plot(np.cumsum(pca1.explained_variance_ratio_), label='After PCA Features')\n",
        "plt.grid(True)\n",
        "plt.legend()\n",
        "plt.show()"
      ],
      "metadata": {
        "id": "kQVaJNIknP8M",
        "colab": {
          "base_uri": "https://localhost:8080/",
          "height": 284
        },
        "outputId": "5947ab99-c07a-4541-9413-bc6a3c9659c0"
      },
      "execution_count": 41,
      "outputs": [
        {
          "output_type": "display_data",
          "data": {
            "image/png": "[encoded data removed]",
            "text/plain": [
              "<Figure size 432x288 with 1 Axes>"
            ]
          },
          "metadata": {}
        }
      ]
    },
    {
      "cell_type": "markdown",
      "source": [
        "Compare feature importances for the two Random Forest methods applied ( on initial dataset and after PCA with reduced to 7 features )"
      ],
      "metadata": {
        "id": "e8LslJIuXI8z"
      }
    },
    {
      "cell_type": "code",
      "source": [
        "initial_features_importance = model.feature_importances_.tolist()\n",
        "initial_features_importance.sort(reverse=True)\n",
        "\n",
        "plt.figure()\n",
        "plt.title(\"FEATURE IMPORTANCE\")\n",
        "plt.plot(np.cumsum(initial_features_importance), label='Initial Features')\n",
        "plt.plot(np.cumsum(pca95.explained_variance_ratio_), label='After PCA Features')\n",
        "plt.grid(True)\n",
        "plt.legend()\n",
        "plt.show()"
      ],
      "metadata": {
        "colab": {
          "base_uri": "https://localhost:8080/",
          "height": 284
        },
        "id": "a4iYza39gq-9",
        "outputId": "0b416b83-7836-42ee-ca3a-f1606c0acdd9"
      },
      "execution_count": 42,
      "outputs": [
        {
          "output_type": "display_data",
          "data": {
            "image/png": "[encoded data removed]",
            "text/plain": [
              "<Figure size 432x288 with 1 Axes>"
            ]
          },
          "metadata": {}
        }
      ]
    },
    {
      "cell_type": "markdown",
      "source": [
        "-------------------------------\n",
        "  ###              Excersice 2 \n",
        "-------------------------------"
      ],
      "metadata": {
        "id": "ZNgvoTWctiGd"
      }
    },
    {
      "cell_type": "markdown",
      "source": [
        "## Create Pipeline with PCA and Random Forest"
      ],
      "metadata": {
        "id": "ZtFRtsmsUdro"
      }
    },
    {
      "cell_type": "code",
      "source": [
        "from sklearn.pipeline import FeatureUnion\n",
        "from sklearn.pipeline import Pipeline\n",
        "from sklearn.metrics import f1_score, recall_score, precision_score, roc_auc_score,confusion_matrix, accuracy_score\n",
        "from sklearn.model_selection import GridSearchCV\n",
        "from sklearn.model_selection import RandomizedSearchCV"
      ],
      "metadata": {
        "id": "6qk7D5yeUsmB"
      },
      "execution_count": 63,
      "outputs": []
    },
    {
      "cell_type": "code",
      "source": [
        "X_train, X_test, y_train, y_test = train_test_split(x, y, test_size=0.3, random_state=0)\n",
        "pipe = Pipeline([(\"scaler\",MinMaxScaler()), ('pca_pip', PCA()), ('clf_pip', RandomForestClassifier())])\n",
        "pipe\n",
        "# show keys \n",
        "pipe.get_params()"
      ],
      "metadata": {
        "id": "bvRK3PkrvkjC",
        "colab": {
          "base_uri": "https://localhost:8080/"
        },
        "outputId": "3aa19472-e301-4537-bf9f-2bd32ebc2842"
      },
      "execution_count": 52,
      "outputs": [
        {
          "output_type": "execute_result",
          "data": {
            "text/plain": [
              "{'clf_pip': RandomForestClassifier(),\n",
              " 'clf_pip__bootstrap': True,\n",
              " 'clf_pip__ccp_alpha': 0.0,\n",
              " 'clf_pip__class_weight': None,\n",
              " 'clf_pip__criterion': 'gini',\n",
              " 'clf_pip__max_depth': None,\n",
              " 'clf_pip__max_features': 'auto',\n",
              " 'clf_pip__max_leaf_nodes': None,\n",
              " 'clf_pip__max_samples': None,\n",
              " 'clf_pip__min_impurity_decrease': 0.0,\n",
              " 'clf_pip__min_samples_leaf': 1,\n",
              " 'clf_pip__min_samples_split': 2,\n",
              " 'clf_pip__min_weight_fraction_leaf': 0.0,\n",
              " 'clf_pip__n_estimators': 100,\n",
              " 'clf_pip__n_jobs': None,\n",
              " 'clf_pip__oob_score': False,\n",
              " 'clf_pip__random_state': None,\n",
              " 'clf_pip__verbose': 0,\n",
              " 'clf_pip__warm_start': False,\n",
              " 'memory': None,\n",
              " 'pca_pip': PCA(),\n",
              " 'pca_pip__copy': True,\n",
              " 'pca_pip__iterated_power': 'auto',\n",
              " 'pca_pip__n_components': None,\n",
              " 'pca_pip__random_state': None,\n",
              " 'pca_pip__svd_solver': 'auto',\n",
              " 'pca_pip__tol': 0.0,\n",
              " 'pca_pip__whiten': False,\n",
              " 'scaler': MinMaxScaler(),\n",
              " 'scaler__clip': False,\n",
              " 'scaler__copy': True,\n",
              " 'scaler__feature_range': (0, 1),\n",
              " 'steps': [('scaler', MinMaxScaler()),\n",
              "  ('pca_pip', PCA()),\n",
              "  ('clf_pip', RandomForestClassifier())],\n",
              " 'verbose': False}"
            ]
          },
          "metadata": {},
          "execution_count": 52
        }
      ]
    },
    {
      "cell_type": "code",
      "source": [
        "# set parameters \n",
        "pipe.set_params(clf_pip__random_state=0)"
      ],
      "metadata": {
        "colab": {
          "base_uri": "https://localhost:8080/"
        },
        "id": "7tEvOw-c9m1C",
        "outputId": "37bc57e5-8921-4a00-fefa-1d863f4815bd"
      },
      "execution_count": 53,
      "outputs": [
        {
          "output_type": "execute_result",
          "data": {
            "text/plain": [
              "Pipeline(steps=[('scaler', MinMaxScaler()), ('pca_pip', PCA()),\n",
              "                ('clf_pip', RandomForestClassifier(random_state=0))])"
            ]
          },
          "metadata": {},
          "execution_count": 53
        }
      ]
    },
    {
      "cell_type": "markdown",
      "source": [
        "## As previous but now with pipeline"
      ],
      "metadata": {
        "id": "gvBxl6ZPhAU8"
      }
    },
    {
      "cell_type": "code",
      "source": [
        "pipe.fit(X_train, y_train.values.ravel())\n",
        "\n",
        "test_accuracy_pipe  = pipe.score(X_test, y_test)\n",
        "\n",
        "y_pred = pipe.predict(X_test)\n",
        "\n",
        "print('->Final print scores :\\n')\n",
        "print('Random Forest Classifier PCA test accurasy : %.4f' % test_accuracy_pipe  )\n",
        "print('Random Forest Classifier PCA f1-score      : {:.4f}'.format(f1_score( y_test      , y_pred)))\n",
        "print('Random Forest Classifier PCA precision     : {:.4f}'.format(precision_score(y_test, y_pred)))\n",
        "print('Random Forest Classifier PCA recall        : {:.4f}'.format(recall_score(y_test   , y_pred)))\n",
        "print(\"Random Forest Classifier PCA roc auc score : {:.4f}\".format(roc_auc_score(y_test  , y_pred)))\n",
        "print(\"\\n\" , classification_report(y_test, y_pred))"
      ],
      "metadata": {
        "id": "uFHgt-VCXVWf",
        "colab": {
          "base_uri": "https://localhost:8080/"
        },
        "outputId": "aa12e079-81ba-4026-de9b-d9b1d98ac4cd"
      },
      "execution_count": 71,
      "outputs": [
        {
          "output_type": "stream",
          "name": "stdout",
          "text": [
            "->Final print scores :\n",
            "\n",
            "Random Forest Classifier PCA test accurasy : 0.7222\n",
            "Random Forest Classifier PCA f1-score      : 0.4898\n",
            "Random Forest Classifier PCA precision     : 0.5714\n",
            "Random Forest Classifier PCA recall        : 0.4286\n",
            "Random Forest Classifier PCA roc auc score : 0.6417\n",
            "\n",
            "               precision    recall  f1-score   support\n",
            "\n",
            "           0       0.77      0.85      0.81        62\n",
            "           1       0.57      0.43      0.49        28\n",
            "\n",
            "    accuracy                           0.72        90\n",
            "   macro avg       0.67      0.64      0.65        90\n",
            "weighted avg       0.71      0.72      0.71        90\n",
            "\n"
          ]
        }
      ]
    },
    {
      "cell_type": "markdown",
      "source": [
        "##GridSearchCV"
      ],
      "metadata": {
        "id": "8vsyoSM1Lgn5"
      }
    },
    {
      "cell_type": "code",
      "source": [
        "X_train_grid, X_test_grid, y_train_grid, y_test_grid = train_test_split(x, y, test_size=0.3, random_state=0)\n",
        "pipe_grid = Pipeline([(\"scaler_grid\",MinMaxScaler()), ('pca_grid_pip', PCA()), ('clf_grid_pip', RandomForestClassifier())])\n",
        "\n",
        "# show keys \n",
        "pipe_grid.get_params()"
      ],
      "metadata": {
        "colab": {
          "base_uri": "https://localhost:8080/"
        },
        "id": "s6pdS0bEnRZ2",
        "outputId": "747b7075-b390-4b39-d186-d8a819c5481c"
      },
      "execution_count": 110,
      "outputs": [
        {
          "output_type": "execute_result",
          "data": {
            "text/plain": [
              "{'clf_grid_pip': RandomForestClassifier(),\n",
              " 'clf_grid_pip__bootstrap': True,\n",
              " 'clf_grid_pip__ccp_alpha': 0.0,\n",
              " 'clf_grid_pip__class_weight': None,\n",
              " 'clf_grid_pip__criterion': 'gini',\n",
              " 'clf_grid_pip__max_depth': None,\n",
              " 'clf_grid_pip__max_features': 'auto',\n",
              " 'clf_grid_pip__max_leaf_nodes': None,\n",
              " 'clf_grid_pip__max_samples': None,\n",
              " 'clf_grid_pip__min_impurity_decrease': 0.0,\n",
              " 'clf_grid_pip__min_samples_leaf': 1,\n",
              " 'clf_grid_pip__min_samples_split': 2,\n",
              " 'clf_grid_pip__min_weight_fraction_leaf': 0.0,\n",
              " 'clf_grid_pip__n_estimators': 100,\n",
              " 'clf_grid_pip__n_jobs': None,\n",
              " 'clf_grid_pip__oob_score': False,\n",
              " 'clf_grid_pip__random_state': None,\n",
              " 'clf_grid_pip__verbose': 0,\n",
              " 'clf_grid_pip__warm_start': False,\n",
              " 'memory': None,\n",
              " 'pca_grid_pip': PCA(),\n",
              " 'pca_grid_pip__copy': True,\n",
              " 'pca_grid_pip__iterated_power': 'auto',\n",
              " 'pca_grid_pip__n_components': None,\n",
              " 'pca_grid_pip__random_state': None,\n",
              " 'pca_grid_pip__svd_solver': 'auto',\n",
              " 'pca_grid_pip__tol': 0.0,\n",
              " 'pca_grid_pip__whiten': False,\n",
              " 'scaler_grid': MinMaxScaler(),\n",
              " 'scaler_grid__clip': False,\n",
              " 'scaler_grid__copy': True,\n",
              " 'scaler_grid__feature_range': (0, 1),\n",
              " 'steps': [('scaler_grid', MinMaxScaler()),\n",
              "  ('pca_grid_pip', PCA()),\n",
              "  ('clf_grid_pip', RandomForestClassifier())],\n",
              " 'verbose': False}"
            ]
          },
          "metadata": {},
          "execution_count": 110
        }
      ]
    },
    {
      "cell_type": "code",
      "source": [
        "param_grid = {\n",
        "    \"pca_grid_pip__n_components\"             : [ 3, 5, 7, 9, 11]     ,\n",
        "    'clf_grid_pip__min_samples_leaf'         : [1,2,3]               ,\n",
        "    'clf_grid_pip__n_estimators'             : np.arange(10,100,10)  ,\n",
        "    'clf_grid_pip__random_state'             : [0,42]                ,\n",
        "}\n",
        "\n",
        "forest_clf = GridSearchCV( pipe_grid, param_grid, cv=3 )\n",
        "forest_clf.fit(X_train_grid, y_train_grid)\n",
        "\n",
        "print(\"Best parameter (CV score=%0.3f):\" % forest_clf.best_score_)\n",
        "print(forest_clf.best_params_)\n",
        "rf_grid_best = forest_clf.best_estimator_"
      ],
      "metadata": {
        "id": "6RL_NZ5xnJgB",
        "colab": {
          "base_uri": "https://localhost:8080/"
        },
        "outputId": "6b2f2946-3659-45e0-e592-13ea39ca0dfe"
      },
      "execution_count": 121,
      "outputs": [
        {
          "output_type": "stream",
          "name": "stdout",
          "text": [
            "Best parameter (CV score=0.785):\n",
            "{'clf_grid_pip__min_samples_leaf': 2, 'clf_grid_pip__n_estimators': 40, 'clf_grid_pip__random_state': 0, 'pca_grid_pip__n_components': 11}\n"
          ]
        }
      ]
    },
    {
      "cell_type": "code",
      "source": [
        "ypred_train_grid = rf_grid_best.predict(X_train)\n",
        "ypred_test_grid  = rf_grid_best.predict(X_test)\n",
        "\n",
        "print(\"Train Accuracy :\", accuracy_score(y_train_grid, ypred_train_grid))\n",
        "print(\"Train ROC_AUC Score :\", roc_auc_score(y_train_grid, ypred_train_grid))\n",
        "print(\"Train Confusion Matrix:\")\n",
        "print(confusion_matrix(y_train_grid, ypred_train_grid))\n",
        "print(\"-\"*50)\n",
        "print(\"Test Accuracy :\", accuracy_score(y_test_grid, ypred_test_grid))\n",
        "print(\"Train ROC_AUC Score :\", roc_auc_score(y_test_grid, ypred_test_grid))\n",
        "print(\"Test Confusion Matrix:\")\n",
        "print(confusion_matrix(y_test_grid, ypred_test_grid))"
      ],
      "metadata": {
        "colab": {
          "base_uri": "https://localhost:8080/"
        },
        "id": "84ebJ-FeicdR",
        "outputId": "6f2698b4-0e8a-412c-d084-3d0f90a58963"
      },
      "execution_count": 122,
      "outputs": [
        {
          "output_type": "stream",
          "name": "stdout",
          "text": [
            "Train Accuracy : 0.9904306220095693\n",
            "Train ROC_AUC Score : 0.9852941176470589\n",
            "Train Confusion Matrix:\n",
            "[[141   0]\n",
            " [  2  66]]\n",
            "--------------------------------------------------\n",
            "Test Accuracy : 0.7\n",
            "Train ROC_AUC Score : 0.6157834101382488\n",
            "Test Confusion Matrix:\n",
            "[[52 10]\n",
            " [17 11]]\n"
          ]
        }
      ]
    },
    {
      "cell_type": "markdown",
      "source": [
        "##RandomizedSearchCV"
      ],
      "metadata": {
        "id": "01kItkyWLZjp"
      }
    },
    {
      "cell_type": "code",
      "source": [
        "X_train_rand, X_test_rand, y_train_rand, y_test_rand = train_test_split(x, y, test_size=0.3, random_state=0)\n",
        "pipe_rand = Pipeline([(\"scaler_rand\",MinMaxScaler()), ('pca_rand_pip', PCA()), ('clf_rand_pip', RandomForestClassifier())])\n",
        "\n",
        "# show keys \n",
        "pipe_rand.get_params()"
      ],
      "metadata": {
        "colab": {
          "base_uri": "https://localhost:8080/"
        },
        "id": "-hXxmnsaozQl",
        "outputId": "06dcafa0-1ef0-4997-e108-e9d1f93ca870"
      },
      "execution_count": 92,
      "outputs": [
        {
          "output_type": "execute_result",
          "data": {
            "text/plain": [
              "{'clf_rand_pip': RandomForestClassifier(),\n",
              " 'clf_rand_pip__bootstrap': True,\n",
              " 'clf_rand_pip__ccp_alpha': 0.0,\n",
              " 'clf_rand_pip__class_weight': None,\n",
              " 'clf_rand_pip__criterion': 'gini',\n",
              " 'clf_rand_pip__max_depth': None,\n",
              " 'clf_rand_pip__max_features': 'auto',\n",
              " 'clf_rand_pip__max_leaf_nodes': None,\n",
              " 'clf_rand_pip__max_samples': None,\n",
              " 'clf_rand_pip__min_impurity_decrease': 0.0,\n",
              " 'clf_rand_pip__min_samples_leaf': 1,\n",
              " 'clf_rand_pip__min_samples_split': 2,\n",
              " 'clf_rand_pip__min_weight_fraction_leaf': 0.0,\n",
              " 'clf_rand_pip__n_estimators': 100,\n",
              " 'clf_rand_pip__n_jobs': None,\n",
              " 'clf_rand_pip__oob_score': False,\n",
              " 'clf_rand_pip__random_state': None,\n",
              " 'clf_rand_pip__verbose': 0,\n",
              " 'clf_rand_pip__warm_start': False,\n",
              " 'memory': None,\n",
              " 'pca_rand_pip': PCA(),\n",
              " 'pca_rand_pip__copy': True,\n",
              " 'pca_rand_pip__iterated_power': 'auto',\n",
              " 'pca_rand_pip__n_components': None,\n",
              " 'pca_rand_pip__random_state': None,\n",
              " 'pca_rand_pip__svd_solver': 'auto',\n",
              " 'pca_rand_pip__tol': 0.0,\n",
              " 'pca_rand_pip__whiten': False,\n",
              " 'scaler_rand': MinMaxScaler(),\n",
              " 'scaler_rand__clip': False,\n",
              " 'scaler_rand__copy': True,\n",
              " 'scaler_rand__feature_range': (0, 1),\n",
              " 'steps': [('scaler_rand', MinMaxScaler()),\n",
              "  ('pca_rand_pip', PCA()),\n",
              "  ('clf_rand_pip', RandomForestClassifier())],\n",
              " 'verbose': False}"
            ]
          },
          "metadata": {},
          "execution_count": 92
        }
      ]
    },
    {
      "cell_type": "code",
      "source": [
        "param_Rand = {\n",
        "    \"pca_rand_pip__n_components\"             : [ 3, 5, 7, 9, 11]     ,\n",
        "    'clf_rand_pip__max_depth'                : [1, 2, 5, 10]         ,\n",
        "    'clf_rand_pip__min_samples_leaf'         : [5, 10, 20, 50]       ,\n",
        "    'clf_rand_pip__n_estimators'             : [10, 30, 50, 100, 200],\n",
        "    'clf_rand_pip__max_features'             : [2,3]                 , \n",
        "    'clf_rand_pip__random_state'             : [0,42]         \n",
        "}\n",
        "searchRand =  RandomizedSearchCV(pipe_rand, param_Rand, random_state=42)\n",
        "searchRand.fit(X_train_rand, y_train_rand)\n",
        "\n",
        "print(\"Best parameter (CV score=%0.3f):\" % searchRand.best_score_)\n",
        "print(searchRand.best_params_)\n",
        "\n",
        "rf_rand_best = searchRand.best_estimator_"
      ],
      "metadata": {
        "colab": {
          "base_uri": "https://localhost:8080/"
        },
        "id": "Z7-65x_XF6rv",
        "outputId": "61e03895-a351-4156-831b-53184255276c"
      },
      "execution_count": 103,
      "outputs": [
        {
          "output_type": "stream",
          "name": "stdout",
          "text": [
            "Best parameter (CV score=0.722):\n",
            "{'pca_rand_pip__n_components': 11, 'clf_rand_pip__random_state': 0, 'clf_rand_pip__n_estimators': 200, 'clf_rand_pip__min_samples_leaf': 5, 'clf_rand_pip__max_features': 3, 'clf_rand_pip__max_depth': 5}\n"
          ]
        }
      ]
    },
    {
      "cell_type": "code",
      "source": [
        "ypred_train_rand = rf_rand_best.predict(X_train)\n",
        "ypred_test_rand  = rf_rand_best.predict(X_test)\n",
        "\n",
        "print(\"Train Accuracy :\", accuracy_score(y_train_rand, ypred_train_rand))\n",
        "print(\"Train ROC_AUC Score :\", roc_auc_score(y_train_rand, ypred_train_rand))\n",
        "print(\"Train Confusion Matrix:\")\n",
        "print(confusion_matrix(y_train_rand, ypred_train_rand))\n",
        "print(\"-\"*50)\n",
        "print(\"Test Accuracy :\", accuracy_score(y_test_rand, ypred_test_rand))\n",
        "print(\"Train ROC_AUC Score :\", roc_auc_score(y_test_rand, ypred_test_rand))\n",
        "print(\"Test Confusion Matrix:\")\n",
        "print(confusion_matrix(y_test_rand, ypred_test_rand))"
      ],
      "metadata": {
        "colab": {
          "base_uri": "https://localhost:8080/"
        },
        "id": "CAbkSeBicB_O",
        "outputId": "e32a2798-5ab3-4281-bc29-8c2ff6f025a7"
      },
      "execution_count": 104,
      "outputs": [
        {
          "output_type": "stream",
          "name": "stdout",
          "text": [
            "Train Accuracy : 0.9090909090909091\n",
            "Train ROC_AUC Score : 0.8717146433041301\n",
            "Train Confusion Matrix:\n",
            "[[138   3]\n",
            " [ 16  52]]\n",
            "--------------------------------------------------\n",
            "Test Accuracy : 0.7444444444444445\n",
            "Train ROC_AUC Score : 0.6480414746543779\n",
            "Test Confusion Matrix:\n",
            "[[56  6]\n",
            " [17 11]]\n"
          ]
        }
      ]
    }
  ]
}