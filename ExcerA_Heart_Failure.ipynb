{
  "nbformat": 4,
  "nbformat_minor": 0,
  "metadata": {
    "colab": {
      "name": "ExcerA_Heart_Failure.ipynb",
      "provenance": [],
      "collapsed_sections": [],
      "authorship_tag": "ABX9TyNtjpvkp8+RN879aULGN32+",
      "include_colab_link": true
    },
    "kernelspec": {
      "name": "python3",
      "display_name": "Python 3"
    },
    "language_info": {
      "name": "python"
    }
  },
  "cells": [
    {
      "cell_type": "markdown",
      "metadata": {
        "id": "view-in-github",
        "colab_type": "text"
      },
      "source": [
        "<a href=\"https://colab.research.google.com/github/spros1/HeartFailureAnalysis/blob/main/ExcerA_Heart_Failure.ipynb\" target=\"_parent\"><img src=\"https://colab.research.google.com/assets/colab-badge.svg\" alt=\"Open In Colab\"/></a>"
      ]
    },
    {
      "cell_type": "markdown",
      "source": [
        "\n",
        "\n",
        "1.   Start the commands in order to load a file from Kaggle to Colab\n",
        "\n",
        "---\n"
      ],
      "metadata": {
        "id": "nyutKiX8l1iT"
      }
    },
    {
      "cell_type": "code",
      "execution_count": null,
      "metadata": {
        "id": "JG3h1fSwbPkJ"
      },
      "outputs": [],
      "source": [
        "pip install -q kaggle"
      ]
    },
    {
      "cell_type": "code",
      "source": [
        "from google.colab import files\n",
        "files.upload()\n"
      ],
      "metadata": {
        "id": "N_5g0BP9bcuP"
      },
      "execution_count": null,
      "outputs": []
    },
    {
      "cell_type": "code",
      "source": [
        "! mkdir ~/.kaggle\n",
        "! cp kaggle.json ~/.kaggle/"
      ],
      "metadata": {
        "id": "cDeCnQnofj11"
      },
      "execution_count": null,
      "outputs": []
    },
    {
      "cell_type": "code",
      "source": [
        "! chmod 600 ~/.kaggle/kaggle.json"
      ],
      "metadata": {
        "id": "qbiTe7M5frnX"
      },
      "execution_count": null,
      "outputs": []
    },
    {
      "cell_type": "code",
      "source": [
        "!kaggle datasets download -d andrewmvd/heart-failure-clinical-data"
      ],
      "metadata": {
        "id": "1RRnpk5UgJfR"
      },
      "execution_count": null,
      "outputs": []
    },
    {
      "cell_type": "code",
      "source": [
        "ls"
      ],
      "metadata": {
        "id": "kFuuAhPfgULf"
      },
      "execution_count": null,
      "outputs": []
    },
    {
      "cell_type": "code",
      "source": [
        "! unzip heart-failure-clinical-data.zip"
      ],
      "metadata": {
        "id": "Q_JgtSmPgrMK"
      },
      "execution_count": null,
      "outputs": []
    },
    {
      "cell_type": "markdown",
      "source": [
        "\n",
        "\n",
        "2.   Check the data and import them to SqlDatabase\n",
        "\n",
        "---\n",
        "\n",
        "\n"
      ],
      "metadata": {
        "id": "TBB_1jdalC3p"
      }
    },
    {
      "cell_type": "code",
      "source": [
        "# Check dataset \n",
        "import pandas as pd\n",
        "from google.colab import files\n",
        "with open('ExcerA_Heart_Failure/heart_failure_clinical_records_dataset.csv', 'r') as data:\n",
        "    df3 = pd.read_csv(data, encoding = ('ansi'))\n",
        "    print (df3)"
      ],
      "metadata": {
        "id": "NoP_gCV4mSI6"
      },
      "execution_count": null,
      "outputs": []
    },
    {
      "cell_type": "markdown",
      "source": [
        "### Create an instance of Database and load to table the CSV"
      ],
      "metadata": {
        "id": "AsBx7jhIonqn"
      }
    },
    {
      "cell_type": "code",
      "source": [
        "# create the SQLite Database\n",
        "%pip install csv-to-sqlite"
      ],
      "metadata": {
        "id": "ZaMw21JanLdt"
      },
      "execution_count": null,
      "outputs": []
    },
    {
      "cell_type": "code",
      "source": [
        "# import to table \n",
        "!csv-to-sqlite -f ExcerA_Heart_Failure/heart_failure_clinical_records_dataset.csv -t full -o db.sqlite"
      ],
      "metadata": {
        "id": "VBKPg3lgvdZO"
      },
      "execution_count": null,
      "outputs": []
    },
    {
      "cell_type": "markdown",
      "source": [
        "### Accessing Database\n"
      ],
      "metadata": {
        "id": "6YjN9BAK0Eov"
      }
    },
    {
      "cell_type": "code",
      "source": [
        "#Accessing the SQL Database\n",
        "import sqlite3"
      ],
      "metadata": {
        "id": "1wnSIj51wzGX"
      },
      "execution_count": 27,
      "outputs": []
    },
    {
      "cell_type": "code",
      "source": [
        "def create_connection(db_file):\n",
        "    \"\"\" create a database connection to the SQLite database\n",
        "        specified by the db_file\n",
        "    :param db_file: database file\n",
        "    :return: Connection object or None\n",
        "    \"\"\"\n",
        "    conn = None\n",
        "    try:\n",
        "        conn = sqlite3.connect(db_file)\n",
        "    except Error as e:\n",
        "        print(e)\n",
        "\n",
        "    return conn"
      ],
      "metadata": {
        "id": "Hb0_rax2w0oj"
      },
      "execution_count": 25,
      "outputs": []
    },
    {
      "cell_type": "code",
      "source": [
        "conn = create_connection(\"db.sqlite\")"
      ],
      "metadata": {
        "id": "dKKHbSEg0fov"
      },
      "execution_count": 28,
      "outputs": []
    },
    {
      "cell_type": "code",
      "source": [
        "def select_top(conn, table,  n):\n",
        "    \"\"\"\n",
        "    Query n first rows of the table\n",
        "    :param conn: the Connection object\n",
        "    :param table: The table to query\n",
        "    :param n: Number of rows to query\n",
        "    \"\"\"\n",
        "    cur = conn.cursor()\n",
        "    cur.execute(f\"SELECT * FROM [{table}] LIMIT :limitNum\", {\"limitNum\": n})\n",
        "\n",
        "    rows = cur.fetchall()\n",
        "    return rows"
      ],
      "metadata": {
        "id": "VUFAbE5J0iMN"
      },
      "execution_count": 30,
      "outputs": []
    },
    {
      "cell_type": "code",
      "source": [
        "def head(conn, table, n=300):\n",
        "  rows = select_top(conn, table, n)\n",
        "  for r in rows:\n",
        "      print(r)"
      ],
      "metadata": {
        "id": "hdGbvOI61F4K"
      },
      "execution_count": 33,
      "outputs": []
    },
    {
      "cell_type": "code",
      "source": [
        "head(conn, 'heart_failure_clinical_records_dataset')"
      ],
      "metadata": {
        "id": "XmYhWzOE1OqC"
      },
      "execution_count": null,
      "outputs": []
    }
  ]
}