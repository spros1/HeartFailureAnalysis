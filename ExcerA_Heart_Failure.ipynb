{
  "nbformat": 4,
  "nbformat_minor": 0,
  "metadata": {
    "colab": {
      "name": "ExcerA_Heart_Failure.ipynb",
      "provenance": [],
      "collapsed_sections": [],
      "authorship_tag": "ABX9TyPHpNOhwi9OBDkdt1e3RtsN",
      "include_colab_link": true
    },
    "kernelspec": {
      "name": "python3",
      "display_name": "Python 3"
    },
    "language_info": {
      "name": "python"
    }
  },
  "cells": [
    {
      "cell_type": "markdown",
      "metadata": {
        "id": "view-in-github",
        "colab_type": "text"
      },
      "source": [
        "<a href=\"https://colab.research.google.com/github/spros1/HeartFailureAnalysis/blob/main/ExcerA_Heart_Failure.ipynb\" target=\"_parent\"><img src=\"https://colab.research.google.com/assets/colab-badge.svg\" alt=\"Open In Colab\"/></a>"
      ]
    },
    {
      "cell_type": "markdown",
      "source": [
        "\n",
        "\n",
        "1.   Start the commands in order to load a file from Kaggle to Colab\n",
        "\n",
        "---\n"
      ],
      "metadata": {
        "id": "nyutKiX8l1iT"
      }
    },
    {
      "cell_type": "code",
      "execution_count": 2,
      "metadata": {
        "id": "JG3h1fSwbPkJ"
      },
      "outputs": [],
      "source": [
        "pip install -q kaggle"
      ]
    },
    {
      "cell_type": "code",
      "source": [
        "from google.colab import files\n",
        "files.upload()\n"
      ],
      "metadata": {
        "id": "N_5g0BP9bcuP",
        "outputId": "af260207-1d6f-4a1e-fd90-8fd85726fe96",
        "colab": {
          "resources": {
            "http://localhost:8080/nbextensions/google.colab/files.js": {
              "data": "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",
              "ok": true,
              "headers": [
                [
                  "content-type",
                  "application/javascript"
                ]
              ],
              "status": 200,
              "status_text": ""
            }
          },
          "base_uri": "https://localhost:8080/",
          "height": 91
        }
      },
      "execution_count": 3,
      "outputs": [
        {
          "output_type": "display_data",
          "data": {
            "text/html": [
              "\n",
              "     <input type=\"file\" id=\"files-7cbe954c-2948-42f9-87be-2e3c1f95d7fe\" name=\"files[]\" multiple disabled\n",
              "        style=\"border:none\" />\n",
              "     <output id=\"result-7cbe954c-2948-42f9-87be-2e3c1f95d7fe\">\n",
              "      Upload widget is only available when the cell has been executed in the\n",
              "      current browser session. Please rerun this cell to enable.\n",
              "      </output>\n",
              "      <script src=\"/nbextensions/google.colab/files.js\"></script> "
            ],
            "text/plain": [
              "<IPython.core.display.HTML object>"
            ]
          },
          "metadata": {}
        },
        {
          "output_type": "stream",
          "name": "stdout",
          "text": [
            "Saving kaggle.json to kaggle.json\n"
          ]
        },
        {
          "output_type": "execute_result",
          "data": {
            "text/plain": [
              "{'kaggle.json': b'{\"username\":\"sprospap\",\"key\":\"9a4854805a9655a32d9fa00b6ca4aa15\"}'}"
            ]
          },
          "metadata": {},
          "execution_count": 3
        }
      ]
    },
    {
      "cell_type": "code",
      "source": [
        "! mkdir ~/.kaggle\n",
        "! cp kaggle.json ~/.kaggle/"
      ],
      "metadata": {
        "id": "cDeCnQnofj11",
        "outputId": "853dcef6-c479-4e20-89cf-3f145f869f06",
        "colab": {
          "base_uri": "https://localhost:8080/"
        }
      },
      "execution_count": 7,
      "outputs": [
        {
          "output_type": "stream",
          "name": "stdout",
          "text": [
            "mkdir: cannot create directory ‘/root/.kaggle’: File exists\n"
          ]
        }
      ]
    },
    {
      "cell_type": "code",
      "source": [
        "! chmod 600 ~/.kaggle/kaggle.json"
      ],
      "metadata": {
        "id": "qbiTe7M5frnX"
      },
      "execution_count": 8,
      "outputs": []
    },
    {
      "cell_type": "code",
      "source": [
        "!kaggle datasets download -d andrewmvd/heart-failure-clinical-data"
      ],
      "metadata": {
        "id": "1RRnpk5UgJfR",
        "outputId": "c06832e2-3d65-4ff5-9f27-406494afd990",
        "colab": {
          "base_uri": "https://localhost:8080/"
        }
      },
      "execution_count": 9,
      "outputs": [
        {
          "output_type": "stream",
          "name": "stdout",
          "text": [
            "Downloading heart-failure-clinical-data.zip to /content\n",
            "\r  0% 0.00/3.97k [00:00<?, ?B/s]\n",
            "\r100% 3.97k/3.97k [00:00<00:00, 7.84MB/s]\n"
          ]
        }
      ]
    },
    {
      "cell_type": "code",
      "source": [
        "ls"
      ],
      "metadata": {
        "id": "kFuuAhPfgULf",
        "outputId": "9d23e15f-f58e-4209-e3fd-fb0d88137770",
        "colab": {
          "base_uri": "https://localhost:8080/"
        }
      },
      "execution_count": 10,
      "outputs": [
        {
          "output_type": "stream",
          "name": "stdout",
          "text": [
            "heart-failure-clinical-data.zip  kaggle.json  \u001b[0m\u001b[01;34msample_data\u001b[0m/\n"
          ]
        }
      ]
    },
    {
      "cell_type": "code",
      "source": [
        "! unzip heart-failure-clinical-data.zip"
      ],
      "metadata": {
        "id": "Q_JgtSmPgrMK",
        "outputId": "ea1ccfa3-9306-4fb4-b820-b34de10b1f08",
        "colab": {
          "base_uri": "https://localhost:8080/"
        }
      },
      "execution_count": 11,
      "outputs": [
        {
          "output_type": "stream",
          "name": "stdout",
          "text": [
            "Archive:  heart-failure-clinical-data.zip\n",
            "  inflating: heart_failure_clinical_records_dataset.csv  \n"
          ]
        }
      ]
    },
    {
      "cell_type": "markdown",
      "source": [
        "\n",
        "\n",
        "2.   Check the data and import them to SqlDatabase\n",
        "\n",
        "---\n",
        "\n",
        "\n"
      ],
      "metadata": {
        "id": "TBB_1jdalC3p"
      }
    },
    {
      "cell_type": "code",
      "source": [
        "# Check dataset \n",
        "import pandas as pd\n",
        "from google.colab import files\n",
        "with open('heart_failure_clinical_records_dataset.csv', 'r') as data:\n",
        "    df3 = pd.read_csv(data, encoding = ('ansi'))\n",
        "    print (df3)"
      ],
      "metadata": {
        "id": "NoP_gCV4mSI6",
        "outputId": "bb915274-b943-4ff1-8c2e-aadb7277e2ee",
        "colab": {
          "base_uri": "https://localhost:8080/"
        }
      },
      "execution_count": 12,
      "outputs": [
        {
          "output_type": "stream",
          "name": "stdout",
          "text": [
            "      age  anaemia  creatinine_phosphokinase  ...  smoking  time  DEATH_EVENT\n",
            "0    75.0        0                       582  ...        0     4            1\n",
            "1    55.0        0                      7861  ...        0     6            1\n",
            "2    65.0        0                       146  ...        1     7            1\n",
            "3    50.0        1                       111  ...        0     7            1\n",
            "4    65.0        1                       160  ...        0     8            1\n",
            "..    ...      ...                       ...  ...      ...   ...          ...\n",
            "294  62.0        0                        61  ...        1   270            0\n",
            "295  55.0        0                      1820  ...        0   271            0\n",
            "296  45.0        0                      2060  ...        0   278            0\n",
            "297  45.0        0                      2413  ...        1   280            0\n",
            "298  50.0        0                       196  ...        1   285            0\n",
            "\n",
            "[299 rows x 13 columns]\n"
          ]
        }
      ]
    },
    {
      "cell_type": "markdown",
      "source": [
        "### Create an instance of Database and load to table the CSV"
      ],
      "metadata": {
        "id": "AsBx7jhIonqn"
      }
    },
    {
      "cell_type": "code",
      "source": [
        "# create the SQLite Database\n",
        "%pip install csv-to-sqlite"
      ],
      "metadata": {
        "id": "ZaMw21JanLdt",
        "outputId": "f5e18fe8-bd57-4a65-e819-aaa09950f70f",
        "colab": {
          "base_uri": "https://localhost:8080/"
        }
      },
      "execution_count": 13,
      "outputs": [
        {
          "output_type": "stream",
          "name": "stdout",
          "text": [
            "Collecting csv-to-sqlite\n",
            "  Downloading csv_to_sqlite-2.1.1-py3-none-any.whl (12 kB)\n",
            "Requirement already satisfied: click in /usr/local/lib/python3.7/dist-packages (from csv-to-sqlite) (7.1.2)\n",
            "Installing collected packages: csv-to-sqlite\n",
            "Successfully installed csv-to-sqlite-2.1.1\n"
          ]
        }
      ]
    },
    {
      "cell_type": "code",
      "source": [
        "# import to table \n",
        "!csv-to-sqlite -f heart_failure_clinical_records_dataset.csv -t full -o db.sqlite"
      ],
      "metadata": {
        "id": "VBKPg3lgvdZO",
        "outputId": "c936d1ca-4e9d-49c7-ed36-c35e1cf70675",
        "colab": {
          "base_uri": "https://localhost:8080/"
        }
      },
      "execution_count": 15,
      "outputs": [
        {
          "output_type": "stream",
          "name": "stdout",
          "text": [
            "Written 299 rows into 1 tables in 0.016 seconds\n"
          ]
        }
      ]
    },
    {
      "cell_type": "markdown",
      "source": [
        "### Accessing Database\n"
      ],
      "metadata": {
        "id": "6YjN9BAK0Eov"
      }
    },
    {
      "cell_type": "code",
      "source": [
        "#Accessing the SQL Database\n",
        "import sqlite3"
      ],
      "metadata": {
        "id": "1wnSIj51wzGX"
      },
      "execution_count": 16,
      "outputs": []
    },
    {
      "cell_type": "code",
      "source": [
        "def create_connection(db_file):\n",
        "    \"\"\" create a database connection to the SQLite database\n",
        "        specified by the db_file\n",
        "    :param db_file: database file\n",
        "    :return: Connection object or None\n",
        "    \"\"\"\n",
        "    conn = None\n",
        "    try:\n",
        "        conn = sqlite3.connect(db_file)\n",
        "    except Error as e:\n",
        "        print(e)\n",
        "\n",
        "    return conn"
      ],
      "metadata": {
        "id": "Hb0_rax2w0oj"
      },
      "execution_count": 17,
      "outputs": []
    },
    {
      "cell_type": "code",
      "source": [
        "conn = create_connection(\"db.sqlite\")"
      ],
      "metadata": {
        "id": "dKKHbSEg0fov"
      },
      "execution_count": 18,
      "outputs": []
    },
    {
      "cell_type": "code",
      "source": [
        "def select_top(conn, table,  n):\n",
        "    \"\"\"\n",
        "    Query n first rows of the table\n",
        "    :param conn: the Connection object\n",
        "    :param table: The table to query\n",
        "    :param n: Number of rows to query\n",
        "    \"\"\"\n",
        "    cur = conn.cursor()\n",
        "    cur.execute(f\"SELECT * FROM [{table}] LIMIT :limitNum\", {\"limitNum\": n})\n",
        "\n",
        "    rows = cur.fetchall()\n",
        "    return rows"
      ],
      "metadata": {
        "id": "VUFAbE5J0iMN"
      },
      "execution_count": 19,
      "outputs": []
    },
    {
      "cell_type": "code",
      "source": [
        "def head(conn, table, n=300):\n",
        "  rows = select_top(conn, table, n)\n",
        "  for r in rows:\n",
        "      print(r)"
      ],
      "metadata": {
        "id": "hdGbvOI61F4K"
      },
      "execution_count": 20,
      "outputs": []
    },
    {
      "cell_type": "code",
      "source": [
        "head(conn, 'heart_failure_clinical_records_dataset')"
      ],
      "metadata": {
        "id": "XmYhWzOE1OqC",
        "outputId": "7df81f69-52f6-4723-8db5-79a492ed8c91",
        "colab": {
          "base_uri": "https://localhost:8080/"
        }
      },
      "execution_count": 21,
      "outputs": [
        {
          "output_type": "stream",
          "name": "stdout",
          "text": [
            "(75.0, 0, 582, 0, 20, 1, 265000.0, 1.9, 130, 1, 0, 4, 1)\n",
            "(55.0, 0, 7861, 0, 38, 0, 263358.03, 1.1, 136, 1, 0, 6, 1)\n",
            "(65.0, 0, 146, 0, 20, 0, 162000.0, 1.3, 129, 1, 1, 7, 1)\n",
            "(50.0, 1, 111, 0, 20, 0, 210000.0, 1.9, 137, 1, 0, 7, 1)\n",
            "(65.0, 1, 160, 1, 20, 0, 327000.0, 2.7, 116, 0, 0, 8, 1)\n",
            "(90.0, 1, 47, 0, 40, 1, 204000.0, 2.1, 132, 1, 1, 8, 1)\n",
            "(75.0, 1, 246, 0, 15, 0, 127000.0, 1.2, 137, 1, 0, 10, 1)\n",
            "(60.0, 1, 315, 1, 60, 0, 454000.0, 1.1, 131, 1, 1, 10, 1)\n",
            "(65.0, 0, 157, 0, 65, 0, 263358.03, 1.5, 138, 0, 0, 10, 1)\n",
            "(80.0, 1, 123, 0, 35, 1, 388000.0, 9.4, 133, 1, 1, 10, 1)\n",
            "(75.0, 1, 81, 0, 38, 1, 368000.0, 4.0, 131, 1, 1, 10, 1)\n",
            "(62.0, 0, 231, 0, 25, 1, 253000.0, 0.9, 140, 1, 1, 10, 1)\n",
            "(45.0, 1, 981, 0, 30, 0, 136000.0, 1.1, 137, 1, 0, 11, 1)\n",
            "(50.0, 1, 168, 0, 38, 1, 276000.0, 1.1, 137, 1, 0, 11, 1)\n",
            "(49.0, 1, 80, 0, 30, 1, 427000.0, 1.0, 138, 0, 0, 12, 0)\n",
            "(82.0, 1, 379, 0, 50, 0, 47000.0, 1.3, 136, 1, 0, 13, 1)\n",
            "(87.0, 1, 149, 0, 38, 0, 262000.0, 0.9, 140, 1, 0, 14, 1)\n",
            "(45.0, 0, 582, 0, 14, 0, 166000.0, 0.8, 127, 1, 0, 14, 1)\n",
            "(70.0, 1, 125, 0, 25, 1, 237000.0, 1.0, 140, 0, 0, 15, 1)\n",
            "(48.0, 1, 582, 1, 55, 0, 87000.0, 1.9, 121, 0, 0, 15, 1)\n",
            "(65.0, 1, 52, 0, 25, 1, 276000.0, 1.3, 137, 0, 0, 16, 0)\n",
            "(65.0, 1, 128, 1, 30, 1, 297000.0, 1.6, 136, 0, 0, 20, 1)\n",
            "(68.0, 1, 220, 0, 35, 1, 289000.0, 0.9, 140, 1, 1, 20, 1)\n",
            "(53.0, 0, 63, 1, 60, 0, 368000.0, 0.8, 135, 1, 0, 22, 0)\n",
            "(75.0, 0, 582, 1, 30, 1, 263358.03, 1.83, 134, 0, 0, 23, 1)\n",
            "(80.0, 0, 148, 1, 38, 0, 149000.0, 1.9, 144, 1, 1, 23, 1)\n",
            "(95.0, 1, 112, 0, 40, 1, 196000.0, 1.0, 138, 0, 0, 24, 1)\n",
            "(70.0, 0, 122, 1, 45, 1, 284000.0, 1.3, 136, 1, 1, 26, 1)\n",
            "(58.0, 1, 60, 0, 38, 0, 153000.0, 5.8, 134, 1, 0, 26, 1)\n",
            "(82.0, 0, 70, 1, 30, 0, 200000.0, 1.2, 132, 1, 1, 26, 1)\n",
            "(94.0, 0, 582, 1, 38, 1, 263358.03, 1.83, 134, 1, 0, 27, 1)\n",
            "(85.0, 0, 23, 0, 45, 0, 360000.0, 3.0, 132, 1, 0, 28, 1)\n",
            "(50.0, 1, 249, 1, 35, 1, 319000.0, 1.0, 128, 0, 0, 28, 1)\n",
            "(50.0, 1, 159, 1, 30, 0, 302000.0, 1.2, 138, 0, 0, 29, 0)\n",
            "(65.0, 0, 94, 1, 50, 1, 188000.0, 1.0, 140, 1, 0, 29, 1)\n",
            "(69.0, 0, 582, 1, 35, 0, 228000.0, 3.5, 134, 1, 0, 30, 1)\n",
            "(90.0, 1, 60, 1, 50, 0, 226000.0, 1.0, 134, 1, 0, 30, 1)\n",
            "(82.0, 1, 855, 1, 50, 1, 321000.0, 1.0, 145, 0, 0, 30, 1)\n",
            "(60.0, 0, 2656, 1, 30, 0, 305000.0, 2.3, 137, 1, 0, 30, 0)\n",
            "(60.0, 0, 235, 1, 38, 0, 329000.0, 3.0, 142, 0, 0, 30, 1)\n",
            "(70.0, 0, 582, 0, 20, 1, 263358.03, 1.83, 134, 1, 1, 31, 1)\n",
            "(50.0, 0, 124, 1, 30, 1, 153000.0, 1.2, 136, 0, 1, 32, 1)\n",
            "(70.0, 0, 571, 1, 45, 1, 185000.0, 1.2, 139, 1, 1, 33, 1)\n",
            "(72.0, 0, 127, 1, 50, 1, 218000.0, 1.0, 134, 1, 0, 33, 0)\n",
            "(60.0, 1, 588, 1, 60, 0, 194000.0, 1.1, 142, 0, 0, 33, 1)\n",
            "(50.0, 0, 582, 1, 38, 0, 310000.0, 1.9, 135, 1, 1, 35, 1)\n",
            "(51.0, 0, 1380, 0, 25, 1, 271000.0, 0.9, 130, 1, 0, 38, 1)\n",
            "(60.0, 0, 582, 1, 38, 1, 451000.0, 0.6, 138, 1, 1, 40, 1)\n",
            "(80.0, 1, 553, 0, 20, 1, 140000.0, 4.4, 133, 1, 0, 41, 1)\n",
            "(57.0, 1, 129, 0, 30, 0, 395000.0, 1.0, 140, 0, 0, 42, 1)\n",
            "(68.0, 1, 577, 0, 25, 1, 166000.0, 1.0, 138, 1, 0, 43, 1)\n",
            "(53.0, 1, 91, 0, 20, 1, 418000.0, 1.4, 139, 0, 0, 43, 1)\n",
            "(60.0, 0, 3964, 1, 62, 0, 263358.03, 6.8, 146, 0, 0, 43, 1)\n",
            "(70.0, 1, 69, 1, 50, 1, 351000.0, 1.0, 134, 0, 0, 44, 1)\n",
            "(60.0, 1, 260, 1, 38, 0, 255000.0, 2.2, 132, 0, 1, 45, 1)\n",
            "(95.0, 1, 371, 0, 30, 0, 461000.0, 2.0, 132, 1, 0, 50, 1)\n",
            "(70.0, 1, 75, 0, 35, 0, 223000.0, 2.7, 138, 1, 1, 54, 0)\n",
            "(60.0, 1, 607, 0, 40, 0, 216000.0, 0.6, 138, 1, 1, 54, 0)\n",
            "(49.0, 0, 789, 0, 20, 1, 319000.0, 1.1, 136, 1, 1, 55, 1)\n",
            "(72.0, 0, 364, 1, 20, 1, 254000.0, 1.3, 136, 1, 1, 59, 1)\n",
            "(45.0, 0, 7702, 1, 25, 1, 390000.0, 1.0, 139, 1, 0, 60, 1)\n",
            "(50.0, 0, 318, 0, 40, 1, 216000.0, 2.3, 131, 0, 0, 60, 1)\n",
            "(55.0, 0, 109, 0, 35, 0, 254000.0, 1.1, 139, 1, 1, 60, 0)\n",
            "(45.0, 0, 582, 0, 35, 0, 385000.0, 1.0, 145, 1, 0, 61, 1)\n",
            "(45.0, 0, 582, 0, 80, 0, 263358.03, 1.18, 137, 0, 0, 63, 0)\n",
            "(60.0, 0, 68, 0, 20, 0, 119000.0, 2.9, 127, 1, 1, 64, 1)\n",
            "(42.0, 1, 250, 1, 15, 0, 213000.0, 1.3, 136, 0, 0, 65, 1)\n",
            "(72.0, 1, 110, 0, 25, 0, 274000.0, 1.0, 140, 1, 1, 65, 1)\n",
            "(70.0, 0, 161, 0, 25, 0, 244000.0, 1.2, 142, 0, 0, 66, 1)\n",
            "(65.0, 0, 113, 1, 25, 0, 497000.0, 1.83, 135, 1, 0, 67, 1)\n",
            "(41.0, 0, 148, 0, 40, 0, 374000.0, 0.8, 140, 1, 1, 68, 0)\n",
            "(58.0, 0, 582, 1, 35, 0, 122000.0, 0.9, 139, 1, 1, 71, 0)\n",
            "(85.0, 0, 5882, 0, 35, 0, 243000.0, 1.0, 132, 1, 1, 72, 1)\n",
            "(65.0, 0, 224, 1, 50, 0, 149000.0, 1.3, 137, 1, 1, 72, 0)\n",
            "(69.0, 0, 582, 0, 20, 0, 266000.0, 1.2, 134, 1, 1, 73, 1)\n",
            "(60.0, 1, 47, 0, 20, 0, 204000.0, 0.7, 139, 1, 1, 73, 1)\n",
            "(70.0, 0, 92, 0, 60, 1, 317000.0, 0.8, 140, 0, 1, 74, 0)\n",
            "(42.0, 0, 102, 1, 40, 0, 237000.0, 1.2, 140, 1, 0, 74, 0)\n",
            "(75.0, 1, 203, 1, 38, 1, 283000.0, 0.6, 131, 1, 1, 74, 0)\n",
            "(55.0, 0, 336, 0, 45, 1, 324000.0, 0.9, 140, 0, 0, 74, 0)\n",
            "(70.0, 0, 69, 0, 40, 0, 293000.0, 1.7, 136, 0, 0, 75, 0)\n",
            "(67.0, 0, 582, 0, 50, 0, 263358.03, 1.18, 137, 1, 1, 76, 0)\n",
            "(60.0, 1, 76, 1, 25, 0, 196000.0, 2.5, 132, 0, 0, 77, 1)\n",
            "(79.0, 1, 55, 0, 50, 1, 172000.0, 1.8, 133, 1, 0, 78, 0)\n",
            "(59.0, 1, 280, 1, 25, 1, 302000.0, 1.0, 141, 0, 0, 78, 1)\n",
            "(51.0, 0, 78, 0, 50, 0, 406000.0, 0.7, 140, 1, 0, 79, 0)\n",
            "(55.0, 0, 47, 0, 35, 1, 173000.0, 1.1, 137, 1, 0, 79, 0)\n",
            "(65.0, 1, 68, 1, 60, 1, 304000.0, 0.8, 140, 1, 0, 79, 0)\n",
            "(44.0, 0, 84, 1, 40, 1, 235000.0, 0.7, 139, 1, 0, 79, 0)\n",
            "(57.0, 1, 115, 0, 25, 1, 181000.0, 1.1, 144, 1, 0, 79, 0)\n",
            "(70.0, 0, 66, 1, 45, 0, 249000.0, 0.8, 136, 1, 1, 80, 0)\n",
            "(60.0, 0, 897, 1, 45, 0, 297000.0, 1.0, 133, 1, 0, 80, 0)\n",
            "(42.0, 0, 582, 0, 60, 0, 263358.03, 1.18, 137, 0, 0, 82, 0)\n",
            "(60.0, 1, 154, 0, 25, 0, 210000.0, 1.7, 135, 1, 0, 82, 1)\n",
            "(58.0, 0, 144, 1, 38, 1, 327000.0, 0.7, 142, 0, 0, 83, 0)\n",
            "(58.0, 1, 133, 0, 60, 1, 219000.0, 1.0, 141, 1, 0, 83, 0)\n",
            "(63.0, 1, 514, 1, 25, 1, 254000.0, 1.3, 134, 1, 0, 83, 0)\n",
            "(70.0, 1, 59, 0, 60, 0, 255000.0, 1.1, 136, 0, 0, 85, 0)\n",
            "(60.0, 1, 156, 1, 25, 1, 318000.0, 1.2, 137, 0, 0, 85, 0)\n",
            "(63.0, 1, 61, 1, 40, 0, 221000.0, 1.1, 140, 0, 0, 86, 0)\n",
            "(65.0, 1, 305, 0, 25, 0, 298000.0, 1.1, 141, 1, 0, 87, 0)\n",
            "(75.0, 0, 582, 0, 45, 1, 263358.03, 1.18, 137, 1, 0, 87, 0)\n",
            "(80.0, 0, 898, 0, 25, 0, 149000.0, 1.1, 144, 1, 1, 87, 0)\n",
            "(42.0, 0, 5209, 0, 30, 0, 226000.0, 1.0, 140, 1, 1, 87, 0)\n",
            "(60.0, 0, 53, 0, 50, 1, 286000.0, 2.3, 143, 0, 0, 87, 0)\n",
            "(72.0, 1, 328, 0, 30, 1, 621000.0, 1.7, 138, 0, 1, 88, 1)\n",
            "(55.0, 0, 748, 0, 45, 0, 263000.0, 1.3, 137, 1, 0, 88, 0)\n",
            "(45.0, 1, 1876, 1, 35, 0, 226000.0, 0.9, 138, 1, 0, 88, 0)\n",
            "(63.0, 0, 936, 0, 38, 0, 304000.0, 1.1, 133, 1, 1, 88, 0)\n",
            "(45.0, 0, 292, 1, 35, 0, 850000.0, 1.3, 142, 1, 1, 88, 0)\n",
            "(85.0, 0, 129, 0, 60, 0, 306000.0, 1.2, 132, 1, 1, 90, 1)\n",
            "(55.0, 0, 60, 0, 35, 0, 228000.0, 1.2, 135, 1, 1, 90, 0)\n",
            "(50.0, 0, 369, 1, 25, 0, 252000.0, 1.6, 136, 1, 0, 90, 0)\n",
            "(70.0, 1, 143, 0, 60, 0, 351000.0, 1.3, 137, 0, 0, 90, 1)\n",
            "(60.0, 1, 754, 1, 40, 1, 328000.0, 1.2, 126, 1, 0, 91, 0)\n",
            "(58.0, 1, 400, 0, 40, 0, 164000.0, 1.0, 139, 0, 0, 91, 0)\n",
            "(60.0, 1, 96, 1, 60, 1, 271000.0, 0.7, 136, 0, 0, 94, 0)\n",
            "(85.0, 1, 102, 0, 60, 0, 507000.0, 3.2, 138, 0, 0, 94, 0)\n",
            "(65.0, 1, 113, 1, 60, 1, 203000.0, 0.9, 140, 0, 0, 94, 0)\n",
            "(86.0, 0, 582, 0, 38, 0, 263358.03, 1.83, 134, 0, 0, 95, 1)\n",
            "(60.0, 1, 737, 0, 60, 1, 210000.0, 1.5, 135, 1, 1, 95, 0)\n",
            "(66.0, 1, 68, 1, 38, 1, 162000.0, 1.0, 136, 0, 0, 95, 0)\n",
            "(60.0, 0, 96, 1, 38, 0, 228000.0, 0.75, 140, 0, 0, 95, 0)\n",
            "(60.0, 1, 582, 0, 30, 1, 127000.0, 0.9, 145, 0, 0, 95, 0)\n",
            "(60.0, 0, 582, 0, 40, 0, 217000.0, 3.7, 134, 1, 0, 96, 1)\n",
            "(43.0, 1, 358, 0, 50, 0, 237000.0, 1.3, 135, 0, 0, 97, 0)\n",
            "(46.0, 0, 168, 1, 17, 1, 271000.0, 2.1, 124, 0, 0, 100, 1)\n",
            "(58.0, 1, 200, 1, 60, 0, 300000.0, 0.8, 137, 0, 0, 104, 0)\n",
            "(61.0, 0, 248, 0, 30, 1, 267000.0, 0.7, 136, 1, 1, 104, 0)\n",
            "(53.0, 1, 270, 1, 35, 0, 227000.0, 3.4, 145, 1, 0, 105, 0)\n",
            "(53.0, 1, 1808, 0, 60, 1, 249000.0, 0.7, 138, 1, 1, 106, 0)\n",
            "(60.0, 1, 1082, 1, 45, 0, 250000.0, 6.1, 131, 1, 0, 107, 0)\n",
            "(46.0, 0, 719, 0, 40, 1, 263358.03, 1.18, 137, 0, 0, 107, 0)\n",
            "(63.0, 0, 193, 0, 60, 1, 295000.0, 1.3, 145, 1, 1, 107, 0)\n",
            "(81.0, 0, 4540, 0, 35, 0, 231000.0, 1.18, 137, 1, 1, 107, 0)\n",
            "(75.0, 0, 582, 0, 40, 0, 263358.03, 1.18, 137, 1, 0, 107, 0)\n",
            "(65.0, 1, 59, 1, 60, 0, 172000.0, 0.9, 137, 0, 0, 107, 0)\n",
            "(68.0, 1, 646, 0, 25, 0, 305000.0, 2.1, 130, 1, 0, 108, 0)\n",
            "(62.0, 0, 281, 1, 35, 0, 221000.0, 1.0, 136, 0, 0, 108, 0)\n",
            "(50.0, 0, 1548, 0, 30, 1, 211000.0, 0.8, 138, 1, 0, 108, 0)\n",
            "(80.0, 0, 805, 0, 38, 0, 263358.03, 1.1, 134, 1, 0, 109, 1)\n",
            "(46.0, 1, 291, 0, 35, 0, 348000.0, 0.9, 140, 0, 0, 109, 0)\n",
            "(50.0, 0, 482, 1, 30, 0, 329000.0, 0.9, 132, 0, 0, 109, 0)\n",
            "(61.0, 1, 84, 0, 40, 1, 229000.0, 0.9, 141, 0, 0, 110, 0)\n",
            "(72.0, 1, 943, 0, 25, 1, 338000.0, 1.7, 139, 1, 1, 111, 1)\n",
            "(50.0, 0, 185, 0, 30, 0, 266000.0, 0.7, 141, 1, 1, 112, 0)\n",
            "(52.0, 0, 132, 0, 30, 0, 218000.0, 0.7, 136, 1, 1, 112, 0)\n",
            "(64.0, 0, 1610, 0, 60, 0, 242000.0, 1.0, 137, 1, 0, 113, 0)\n",
            "(75.0, 1, 582, 0, 30, 0, 225000.0, 1.83, 134, 1, 0, 113, 1)\n",
            "(60.0, 0, 2261, 0, 35, 1, 228000.0, 0.9, 136, 1, 0, 115, 0)\n",
            "(72.0, 0, 233, 0, 45, 1, 235000.0, 2.5, 135, 0, 0, 115, 1)\n",
            "(62.0, 0, 30, 1, 60, 1, 244000.0, 0.9, 139, 1, 0, 117, 0)\n",
            "(50.0, 0, 115, 0, 45, 1, 184000.0, 0.9, 134, 1, 1, 118, 0)\n",
            "(50.0, 0, 1846, 1, 35, 0, 263358.03, 1.18, 137, 1, 1, 119, 0)\n",
            "(65.0, 1, 335, 0, 35, 1, 235000.0, 0.8, 136, 0, 0, 120, 0)\n",
            "(60.0, 1, 231, 1, 25, 0, 194000.0, 1.7, 140, 1, 0, 120, 0)\n",
            "(52.0, 1, 58, 0, 35, 0, 277000.0, 1.4, 136, 0, 0, 120, 0)\n",
            "(50.0, 0, 250, 0, 25, 0, 262000.0, 1.0, 136, 1, 1, 120, 0)\n",
            "(85.0, 1, 910, 0, 50, 0, 235000.0, 1.3, 134, 1, 0, 121, 0)\n",
            "(59.0, 1, 129, 0, 45, 1, 362000.0, 1.1, 139, 1, 1, 121, 0)\n",
            "(66.0, 1, 72, 0, 40, 1, 242000.0, 1.2, 134, 1, 0, 121, 0)\n",
            "(45.0, 1, 130, 0, 35, 0, 174000.0, 0.8, 139, 1, 1, 121, 0)\n",
            "(63.0, 1, 582, 0, 40, 0, 448000.0, 0.9, 137, 1, 1, 123, 0)\n",
            "(50.0, 1, 2334, 1, 35, 0, 75000.0, 0.9, 142, 0, 0, 126, 1)\n",
            "(45.0, 0, 2442, 1, 30, 0, 334000.0, 1.1, 139, 1, 0, 129, 1)\n",
            "(80.0, 0, 776, 1, 38, 1, 192000.0, 1.3, 135, 0, 0, 130, 1)\n",
            "(53.0, 0, 196, 0, 60, 0, 220000.0, 0.7, 133, 1, 1, 134, 0)\n",
            "(59.0, 0, 66, 1, 20, 0, 70000.0, 2.4, 134, 1, 0, 135, 1)\n",
            "(65.0, 0, 582, 1, 40, 0, 270000.0, 1.0, 138, 0, 0, 140, 0)\n",
            "(70.0, 0, 835, 0, 35, 1, 305000.0, 0.8, 133, 0, 0, 145, 0)\n",
            "(51.0, 1, 582, 1, 35, 0, 263358.03, 1.5, 136, 1, 1, 145, 0)\n",
            "(52.0, 0, 3966, 0, 40, 0, 325000.0, 0.9, 140, 1, 1, 146, 0)\n",
            "(70.0, 1, 171, 0, 60, 1, 176000.0, 1.1, 145, 1, 1, 146, 0)\n",
            "(50.0, 1, 115, 0, 20, 0, 189000.0, 0.8, 139, 1, 0, 146, 0)\n",
            "(65.0, 0, 198, 1, 35, 1, 281000.0, 0.9, 137, 1, 1, 146, 0)\n",
            "(60.0, 1, 95, 0, 60, 0, 337000.0, 1.0, 138, 1, 1, 146, 0)\n",
            "(69.0, 0, 1419, 0, 40, 0, 105000.0, 1.0, 135, 1, 1, 147, 0)\n",
            "(49.0, 1, 69, 0, 50, 0, 132000.0, 1.0, 140, 0, 0, 147, 0)\n",
            "(63.0, 1, 122, 1, 60, 0, 267000.0, 1.2, 145, 1, 0, 147, 0)\n",
            "(55.0, 0, 835, 0, 40, 0, 279000.0, 0.7, 140, 1, 1, 147, 0)\n",
            "(40.0, 0, 478, 1, 30, 0, 303000.0, 0.9, 136, 1, 0, 148, 0)\n",
            "(59.0, 1, 176, 1, 25, 0, 221000.0, 1.0, 136, 1, 1, 150, 1)\n",
            "(65.0, 0, 395, 1, 25, 0, 265000.0, 1.2, 136, 1, 1, 154, 1)\n",
            "(75.0, 0, 99, 0, 38, 1, 224000.0, 2.5, 134, 1, 0, 162, 1)\n",
            "(58.0, 1, 145, 0, 25, 0, 219000.0, 1.2, 137, 1, 1, 170, 1)\n",
            "(60.667, 1, 104, 1, 30, 0, 389000.0, 1.5, 136, 1, 0, 171, 1)\n",
            "(50.0, 0, 582, 0, 50, 0, 153000.0, 0.6, 134, 0, 0, 172, 1)\n",
            "(60.0, 0, 1896, 1, 25, 0, 365000.0, 2.1, 144, 0, 0, 172, 1)\n",
            "(60.667, 1, 151, 1, 40, 1, 201000.0, 1.0, 136, 0, 0, 172, 0)\n",
            "(40.0, 0, 244, 0, 45, 1, 275000.0, 0.9, 140, 0, 0, 174, 0)\n",
            "(80.0, 0, 582, 1, 35, 0, 350000.0, 2.1, 134, 1, 0, 174, 0)\n",
            "(64.0, 1, 62, 0, 60, 0, 309000.0, 1.5, 135, 0, 0, 174, 0)\n",
            "(50.0, 1, 121, 1, 40, 0, 260000.0, 0.7, 130, 1, 0, 175, 0)\n",
            "(73.0, 1, 231, 1, 30, 0, 160000.0, 1.18, 142, 1, 1, 180, 0)\n",
            "(45.0, 0, 582, 0, 20, 1, 126000.0, 1.6, 135, 1, 0, 180, 1)\n",
            "(77.0, 1, 418, 0, 45, 0, 223000.0, 1.8, 145, 1, 0, 180, 1)\n",
            "(45.0, 0, 582, 1, 38, 1, 263358.03, 1.18, 137, 0, 0, 185, 0)\n",
            "(65.0, 0, 167, 0, 30, 0, 259000.0, 0.8, 138, 0, 0, 186, 0)\n",
            "(50.0, 1, 582, 1, 20, 1, 279000.0, 1.0, 134, 0, 0, 186, 0)\n",
            "(60.0, 0, 1211, 1, 35, 0, 263358.03, 1.8, 113, 1, 1, 186, 0)\n",
            "(63.0, 1, 1767, 0, 45, 0, 73000.0, 0.7, 137, 1, 0, 186, 0)\n",
            "(45.0, 0, 308, 1, 60, 1, 377000.0, 1.0, 136, 1, 0, 186, 0)\n",
            "(70.0, 0, 97, 0, 60, 1, 220000.0, 0.9, 138, 1, 0, 186, 0)\n",
            "(60.0, 0, 59, 0, 25, 1, 212000.0, 3.5, 136, 1, 1, 187, 0)\n",
            "(78.0, 1, 64, 0, 40, 0, 277000.0, 0.7, 137, 1, 1, 187, 0)\n",
            "(50.0, 1, 167, 1, 45, 0, 362000.0, 1.0, 136, 0, 0, 187, 0)\n",
            "(40.0, 1, 101, 0, 40, 0, 226000.0, 0.8, 141, 0, 0, 187, 0)\n",
            "(85.0, 0, 212, 0, 38, 0, 186000.0, 0.9, 136, 1, 0, 187, 0)\n",
            "(60.0, 1, 2281, 1, 40, 0, 283000.0, 1.0, 141, 0, 0, 187, 0)\n",
            "(49.0, 0, 972, 1, 35, 1, 268000.0, 0.8, 130, 0, 0, 187, 0)\n",
            "(70.0, 0, 212, 1, 17, 1, 389000.0, 1.0, 136, 1, 1, 188, 0)\n",
            "(50.0, 0, 582, 0, 62, 1, 147000.0, 0.8, 140, 1, 1, 192, 0)\n",
            "(78.0, 0, 224, 0, 50, 0, 481000.0, 1.4, 138, 1, 1, 192, 0)\n",
            "(48.0, 1, 131, 1, 30, 1, 244000.0, 1.6, 130, 0, 0, 193, 1)\n",
            "(65.0, 1, 135, 0, 35, 1, 290000.0, 0.8, 134, 1, 0, 194, 0)\n",
            "(73.0, 0, 582, 0, 35, 1, 203000.0, 1.3, 134, 1, 0, 195, 0)\n",
            "(70.0, 0, 1202, 0, 50, 1, 358000.0, 0.9, 141, 0, 0, 196, 0)\n",
            "(54.0, 1, 427, 0, 70, 1, 151000.0, 9.0, 137, 0, 0, 196, 1)\n",
            "(68.0, 1, 1021, 1, 35, 0, 271000.0, 1.1, 134, 1, 0, 197, 0)\n",
            "(55.0, 0, 582, 1, 35, 1, 371000.0, 0.7, 140, 0, 0, 197, 0)\n",
            "(73.0, 0, 582, 0, 20, 0, 263358.03, 1.83, 134, 1, 0, 198, 1)\n",
            "(65.0, 0, 118, 0, 50, 0, 194000.0, 1.1, 145, 1, 1, 200, 0)\n",
            "(42.0, 1, 86, 0, 35, 0, 365000.0, 1.1, 139, 1, 1, 201, 0)\n",
            "(47.0, 0, 582, 0, 25, 0, 130000.0, 0.8, 134, 1, 0, 201, 0)\n",
            "(58.0, 0, 582, 1, 25, 0, 504000.0, 1.0, 138, 1, 0, 205, 0)\n",
            "(75.0, 0, 675, 1, 60, 0, 265000.0, 1.4, 125, 0, 0, 205, 0)\n",
            "(58.0, 1, 57, 0, 25, 0, 189000.0, 1.3, 132, 1, 1, 205, 0)\n",
            "(55.0, 1, 2794, 0, 35, 1, 141000.0, 1.0, 140, 1, 0, 206, 0)\n",
            "(65.0, 0, 56, 0, 25, 0, 237000.0, 5.0, 130, 0, 0, 207, 0)\n",
            "(72.0, 0, 211, 0, 25, 0, 274000.0, 1.2, 134, 0, 0, 207, 0)\n",
            "(60.0, 0, 166, 0, 30, 0, 62000.0, 1.7, 127, 0, 0, 207, 1)\n",
            "(70.0, 0, 93, 0, 35, 0, 185000.0, 1.1, 134, 1, 1, 208, 0)\n",
            "(40.0, 1, 129, 0, 35, 0, 255000.0, 0.9, 137, 1, 0, 209, 0)\n",
            "(53.0, 1, 707, 0, 38, 0, 330000.0, 1.4, 137, 1, 1, 209, 0)\n",
            "(53.0, 1, 582, 0, 45, 0, 305000.0, 1.1, 137, 1, 1, 209, 0)\n",
            "(77.0, 1, 109, 0, 50, 1, 406000.0, 1.1, 137, 1, 0, 209, 0)\n",
            "(75.0, 0, 119, 0, 50, 1, 248000.0, 1.1, 148, 1, 0, 209, 0)\n",
            "(70.0, 0, 232, 0, 30, 0, 173000.0, 1.2, 132, 1, 0, 210, 0)\n",
            "(65.0, 1, 720, 1, 40, 0, 257000.0, 1.0, 136, 0, 0, 210, 0)\n",
            "(55.0, 1, 180, 0, 45, 0, 263358.03, 1.18, 137, 1, 1, 211, 0)\n",
            "(70.0, 0, 81, 1, 35, 1, 533000.0, 1.3, 139, 0, 0, 212, 0)\n",
            "(65.0, 0, 582, 1, 30, 0, 249000.0, 1.3, 136, 1, 1, 212, 0)\n",
            "(40.0, 0, 90, 0, 35, 0, 255000.0, 1.1, 136, 1, 1, 212, 0)\n",
            "(73.0, 1, 1185, 0, 40, 1, 220000.0, 0.9, 141, 0, 0, 213, 0)\n",
            "(54.0, 0, 582, 1, 38, 0, 264000.0, 1.8, 134, 1, 0, 213, 0)\n",
            "(61.0, 1, 80, 1, 38, 0, 282000.0, 1.4, 137, 1, 0, 213, 0)\n",
            "(55.0, 0, 2017, 0, 25, 0, 314000.0, 1.1, 138, 1, 0, 214, 1)\n",
            "(64.0, 0, 143, 0, 25, 0, 246000.0, 2.4, 135, 1, 0, 214, 0)\n",
            "(40.0, 0, 624, 0, 35, 0, 301000.0, 1.0, 142, 1, 1, 214, 0)\n",
            "(53.0, 0, 207, 1, 40, 0, 223000.0, 1.2, 130, 0, 0, 214, 0)\n",
            "(50.0, 0, 2522, 0, 30, 1, 404000.0, 0.5, 139, 0, 0, 214, 0)\n",
            "(55.0, 0, 572, 1, 35, 0, 231000.0, 0.8, 143, 0, 0, 215, 0)\n",
            "(50.0, 0, 245, 0, 45, 1, 274000.0, 1.0, 133, 1, 0, 215, 0)\n",
            "(70.0, 0, 88, 1, 35, 1, 236000.0, 1.2, 132, 0, 0, 215, 0)\n",
            "(53.0, 1, 446, 0, 60, 1, 263358.03, 1.0, 139, 1, 0, 215, 0)\n",
            "(52.0, 1, 191, 1, 30, 1, 334000.0, 1.0, 142, 1, 1, 216, 0)\n",
            "(65.0, 0, 326, 0, 38, 0, 294000.0, 1.7, 139, 0, 0, 220, 0)\n",
            "(58.0, 0, 132, 1, 38, 1, 253000.0, 1.0, 139, 1, 0, 230, 0)\n",
            "(45.0, 1, 66, 1, 25, 0, 233000.0, 0.8, 135, 1, 0, 230, 0)\n",
            "(53.0, 0, 56, 0, 50, 0, 308000.0, 0.7, 135, 1, 1, 231, 0)\n",
            "(55.0, 0, 66, 0, 40, 0, 203000.0, 1.0, 138, 1, 0, 233, 0)\n",
            "(62.0, 1, 655, 0, 40, 0, 283000.0, 0.7, 133, 0, 0, 233, 0)\n",
            "(65.0, 1, 258, 1, 25, 0, 198000.0, 1.4, 129, 1, 0, 235, 1)\n",
            "(68.0, 1, 157, 1, 60, 0, 208000.0, 1.0, 140, 0, 0, 237, 0)\n",
            "(61.0, 0, 582, 1, 38, 0, 147000.0, 1.2, 141, 1, 0, 237, 0)\n",
            "(50.0, 1, 298, 0, 35, 0, 362000.0, 0.9, 140, 1, 1, 240, 0)\n",
            "(55.0, 0, 1199, 0, 20, 0, 263358.03, 1.83, 134, 1, 1, 241, 1)\n",
            "(56.0, 1, 135, 1, 38, 0, 133000.0, 1.7, 140, 1, 0, 244, 0)\n",
            "(45.0, 0, 582, 1, 38, 0, 302000.0, 0.9, 140, 0, 0, 244, 0)\n",
            "(40.0, 0, 582, 1, 35, 0, 222000.0, 1.0, 132, 1, 0, 244, 0)\n",
            "(44.0, 0, 582, 1, 30, 1, 263358.03, 1.6, 130, 1, 1, 244, 0)\n",
            "(51.0, 0, 582, 1, 40, 0, 221000.0, 0.9, 134, 0, 0, 244, 0)\n",
            "(67.0, 0, 213, 0, 38, 0, 215000.0, 1.2, 133, 0, 0, 245, 0)\n",
            "(42.0, 0, 64, 0, 40, 0, 189000.0, 0.7, 140, 1, 0, 245, 0)\n",
            "(60.0, 1, 257, 1, 30, 0, 150000.0, 1.0, 137, 1, 1, 245, 0)\n",
            "(45.0, 0, 582, 0, 38, 1, 422000.0, 0.8, 137, 0, 0, 245, 0)\n",
            "(70.0, 0, 618, 0, 35, 0, 327000.0, 1.1, 142, 0, 0, 245, 0)\n",
            "(70.0, 0, 582, 1, 38, 0, 25100.0, 1.1, 140, 1, 0, 246, 0)\n",
            "(50.0, 1, 1051, 1, 30, 0, 232000.0, 0.7, 136, 0, 0, 246, 0)\n",
            "(55.0, 0, 84, 1, 38, 0, 451000.0, 1.3, 136, 0, 0, 246, 0)\n",
            "(70.0, 0, 2695, 1, 40, 0, 241000.0, 1.0, 137, 1, 0, 247, 0)\n",
            "(70.0, 0, 582, 0, 40, 0, 51000.0, 2.7, 136, 1, 1, 250, 0)\n",
            "(42.0, 0, 64, 0, 30, 0, 215000.0, 3.8, 128, 1, 1, 250, 0)\n",
            "(65.0, 0, 1688, 0, 38, 0, 263358.03, 1.1, 138, 1, 1, 250, 0)\n",
            "(50.0, 1, 54, 0, 40, 0, 279000.0, 0.8, 141, 1, 0, 250, 0)\n",
            "(55.0, 1, 170, 1, 40, 0, 336000.0, 1.2, 135, 1, 0, 250, 0)\n",
            "(60.0, 0, 253, 0, 35, 0, 279000.0, 1.7, 140, 1, 0, 250, 0)\n",
            "(45.0, 0, 582, 1, 55, 0, 543000.0, 1.0, 132, 0, 0, 250, 0)\n",
            "(65.0, 0, 892, 1, 35, 0, 263358.03, 1.1, 142, 0, 0, 256, 0)\n",
            "(90.0, 1, 337, 0, 38, 0, 390000.0, 0.9, 144, 0, 0, 256, 0)\n",
            "(45.0, 0, 615, 1, 55, 0, 222000.0, 0.8, 141, 0, 0, 257, 0)\n",
            "(60.0, 0, 320, 0, 35, 0, 133000.0, 1.4, 139, 1, 0, 258, 0)\n",
            "(52.0, 0, 190, 1, 38, 0, 382000.0, 1.0, 140, 1, 1, 258, 0)\n",
            "(63.0, 1, 103, 1, 35, 0, 179000.0, 0.9, 136, 1, 1, 270, 0)\n",
            "(62.0, 0, 61, 1, 38, 1, 155000.0, 1.1, 143, 1, 1, 270, 0)\n",
            "(55.0, 0, 1820, 0, 38, 0, 270000.0, 1.2, 139, 0, 0, 271, 0)\n",
            "(45.0, 0, 2060, 1, 60, 0, 742000.0, 0.8, 138, 0, 0, 278, 0)\n",
            "(45.0, 0, 2413, 0, 38, 0, 140000.0, 1.4, 140, 1, 1, 280, 0)\n",
            "(50.0, 0, 196, 0, 45, 0, 395000.0, 1.6, 136, 1, 1, 285, 0)\n"
          ]
        }
      ]
    }
  ]
}